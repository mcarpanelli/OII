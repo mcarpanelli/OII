{
 "cells": [
  {
   "cell_type": "markdown",
   "metadata": {},
   "source": [
    "# Is there a gender gap in decentralized microfinance?\n",
    "## Evidence from the crowdsourcing platform Kiva"
   ]
  },
  {
   "cell_type": "code",
   "execution_count": 133,
   "metadata": {},
   "outputs": [],
   "source": [
    "import pandas as pd\n",
    "import numpy as np\n",
    "import matplotlib.pyplot as plt\n",
    "import seaborn as sns\n",
    "import statsmodels.api as sm\n",
    "from statsmodels.iolib.summary2 import summary_col\n",
    "import scipy.stats as sts\n",
    "%matplotlib inline"
   ]
  },
  {
   "cell_type": "code",
   "execution_count": 134,
   "metadata": {},
   "outputs": [],
   "source": [
    "pd.set_option('display.max_rows', 1000)"
   ]
  },
  {
   "cell_type": "code",
   "execution_count": 77,
   "metadata": {},
   "outputs": [],
   "source": [
    "data = pd.read_csv('data/loans.csv', usecols = ['LOAN_ID','LOAN_AMOUNT', 'STATUS', 'SECTOR_NAME',\n",
    "                                                'COUNTRY_NAME', 'POSTED_TIME', 'RAISED_TIME',\n",
    "                                                'NUM_LENDERS_TOTAL','BORROWER_GENDERS', 'BORROWER_PICTURED',\n",
    "                                                'REPAYMENT_INTERVAL','DISTRIBUTION_MODEL'],\n",
    "                   parse_dates=['POSTED_TIME','RAISED_TIME'])"
   ]
  },
  {
   "cell_type": "markdown",
   "metadata": {},
   "source": [
    "### Exploratory Data Analysis"
   ]
  },
  {
   "cell_type": "code",
   "execution_count": 78,
   "metadata": {},
   "outputs": [
    {
     "name": "stdout",
     "output_type": "stream",
     "text": [
      "STATUS ['funded' 'expired' 'fundRaising' 'refunded']\n",
      "SECTOR_NAME ['Food' 'Housing' 'Health' 'Education' 'Retail' 'Agriculture' 'Services'\n",
      " 'Personal Use' 'Arts' 'Clothing' 'Transportation' 'Wholesale'\n",
      " 'Construction' 'Entertainment' 'Manufacturing']\n",
      "COUNTRY_NAME ['Philippines' 'Solomon Islands' 'Uganda' 'Kenya' 'Mexico' 'Pakistan'\n",
      " 'Colombia' 'Vietnam' 'Peru' 'Tajikistan' 'Indonesia' 'Cambodia' 'Armenia'\n",
      " 'Liberia' 'Timor-Leste' 'Ghana' 'Samoa' 'Lebanon' 'El Salvador'\n",
      " 'Costa Rica' 'Bolivia' 'Madagascar' 'United States' 'Paraguay' 'Georgia'\n",
      " 'Azerbaijan' 'Ecuador' 'Nigeria' 'Tanzania' 'Kyrgyzstan' 'Nicaragua'\n",
      " 'Togo' 'Albania' 'Mali' 'Sierra Leone' 'Palestine' 'Rwanda' 'Chile'\n",
      " 'Zimbabwe' 'Nepal' 'India' 'Mozambique' 'Fiji' 'Jordan' 'Tonga' 'Haiti'\n",
      " 'Lesotho' 'Benin' 'Iraq' 'Honduras' 'Turkey'\n",
      " 'The Democratic Republic of the Congo' 'Burkina Faso' 'Senegal' 'Moldova'\n",
      " 'Egypt' 'Cameroon' 'Mongolia' 'Yemen' 'South Sudan' 'Ukraine' 'Sri Lanka'\n",
      " 'Kosovo' 'Puerto Rico' 'Guatemala' 'Zambia'\n",
      " \"Lao People's Democratic Republic\" 'Malawi' 'Afghanistan'\n",
      " 'Myanmar (Burma)' 'Belize' 'Dominican Republic' 'Bosnia and Herzegovina'\n",
      " 'China' 'Burundi' 'Bulgaria' 'South Africa' 'Congo' 'Vanuatu'\n",
      " 'Papua New Guinea' 'Brazil' 'Panama' 'Israel' 'Thailand' \"Cote D'Ivoire\"\n",
      " 'Somalia' 'Suriname' 'Namibia' 'Chad' 'Canada'\n",
      " 'Saint Vincent and the Grenadines' 'Bhutan' 'Gaza' 'Bangladesh'\n",
      " 'Mauritania' 'Virgin Islands' 'Guam' 'Botswana' 'Uruguay']\n",
      "BORROWER_GENDERS ['female' 'male' 'female, male' ...\n",
      " 'male, female, male, female, male, male, female, female, male, male, male, female, male, female, male, female, male, female, male, male, male'\n",
      " 'male, female, female, male, male, female, female, male, male, female, female, female'\n",
      " 'female, female, male, female, male, female, female, male, male, female, female, male, female']\n",
      "BORROWER_PICTURED ['true' 'true, true' 'true, true, true, true' ...\n",
      " 'true, true, true, true, true, true, true, true, true, true, true, false, false, true, true, false, true, true, true, true, true, true, true, false, true, false, true, true, true, true'\n",
      " 'false, true, true, true, true, true, true, true, true, true, true, true, false, true, true, true, true, true, true'\n",
      " 'true, true, true, true, true, true, true, true, true, false, true, true, true, true, true, true, false, false, true, true, true, true, true, false']\n",
      "REPAYMENT_INTERVAL ['monthly' 'irregular' 'bullet']\n",
      "DISTRIBUTION_MODEL ['field_partner' 'direct']\n"
     ]
    }
   ],
   "source": [
    "for col in data[['STATUS', 'SECTOR_NAME', 'COUNTRY_NAME','BORROWER_GENDERS',\n",
    "       'BORROWER_PICTURED', 'REPAYMENT_INTERVAL', 'DISTRIBUTION_MODEL']].columns:\n",
    "    print(col,data[col].unique())"
   ]
  },
  {
   "cell_type": "code",
   "execution_count": 79,
   "metadata": {},
   "outputs": [],
   "source": [
    "data = data[((data['RAISED_TIME'].dt.year>=2010)&(data['RAISED_TIME'].dt.year<=2020)&(data['POSTED_TIME'].dt.year>=2010)&(data['POSTED_TIME'].dt.year<=2020)&(data['STATUS'].isin(['funded','expired']))&(data['DISTRIBUTION_MODEL']=='field_partner')&(data['BORROWER_GENDERS'].isin(['male','female'])))]"
   ]
  },
  {
   "cell_type": "code",
   "execution_count": 80,
   "metadata": {},
   "outputs": [],
   "source": [
    "# data = data[data['LOAN_AMOUNT']<=5500]"
   ]
  },
  {
   "cell_type": "code",
   "execution_count": 81,
   "metadata": {},
   "outputs": [],
   "source": [
    "country_totals = data[['COUNTRY_NAME','LOAN_ID']].groupby('COUNTRY_NAME').count().sort_values('LOAN_ID',ascending=False).reset_index()\n",
    "country_totals['share']=(country_totals['LOAN_ID']/data['LOAN_ID'].nunique())\n",
    "# country_totals[country_totals['share']>=.01]['COUNTRY_NAME']\n"
   ]
  },
  {
   "cell_type": "code",
   "execution_count": 82,
   "metadata": {},
   "outputs": [],
   "source": [
    "loan_totals = data[['LOAN_AMOUNT','LOAN_ID']].groupby('LOAN_AMOUNT').count().sort_values('LOAN_ID',ascending=False).reset_index()\n",
    "loan_totals['share']=(loan_totals['LOAN_ID']/data['LOAN_ID'].nunique())*100\n",
    "# loan_totals"
   ]
  },
  {
   "cell_type": "code",
   "execution_count": 83,
   "metadata": {},
   "outputs": [],
   "source": [
    "sector_totals = data[['SECTOR_NAME','LOAN_ID']].groupby('SECTOR_NAME').count().sort_values('LOAN_ID',ascending=False).reset_index()\n",
    "sector_totals['share']=(sector_totals['LOAN_ID']/data['LOAN_ID'].nunique())*100\n",
    "# sector_totals\n"
   ]
  },
  {
   "cell_type": "code",
   "execution_count": 84,
   "metadata": {},
   "outputs": [],
   "source": [
    "data = data[((data['STATUS']=='funded')&(data['DISTRIBUTION_MODEL']=='field_partner')&(data['BORROWER_GENDERS'].isin(['male','female']))&(data['COUNTRY_NAME'].isin(country_totals[country_totals['share']>=.01]['COUNTRY_NAME']))&(data['LOAN_AMOUNT'].isin(loan_totals[loan_totals['share']>=.01]['LOAN_AMOUNT']))&(data['SECTOR_NAME'].isin(sector_totals[sector_totals['share']>=.01]['SECTOR_NAME'])))]"
   ]
  },
  {
   "cell_type": "code",
   "execution_count": 85,
   "metadata": {},
   "outputs": [
    {
     "data": {
      "text/html": [
       "<div>\n",
       "<style scoped>\n",
       "    .dataframe tbody tr th:only-of-type {\n",
       "        vertical-align: middle;\n",
       "    }\n",
       "\n",
       "    .dataframe tbody tr th {\n",
       "        vertical-align: top;\n",
       "    }\n",
       "\n",
       "    .dataframe thead th {\n",
       "        text-align: right;\n",
       "    }\n",
       "</style>\n",
       "<table border=\"1\" class=\"dataframe\">\n",
       "  <thead>\n",
       "    <tr style=\"text-align: right;\">\n",
       "      <th></th>\n",
       "      <th>LOAN_ID</th>\n",
       "      <th>LOAN_AMOUNT</th>\n",
       "      <th>NUM_LENDERS_TOTAL</th>\n",
       "    </tr>\n",
       "  </thead>\n",
       "  <tbody>\n",
       "    <tr>\n",
       "      <td>count</td>\n",
       "      <td>1.232239e+06</td>\n",
       "      <td>1.232239e+06</td>\n",
       "      <td>1.232239e+06</td>\n",
       "    </tr>\n",
       "    <tr>\n",
       "      <td>mean</td>\n",
       "      <td>1.142227e+06</td>\n",
       "      <td>5.188247e+02</td>\n",
       "      <td>1.509632e+01</td>\n",
       "    </tr>\n",
       "    <tr>\n",
       "      <td>std</td>\n",
       "      <td>5.570388e+05</td>\n",
       "      <td>4.149715e+02</td>\n",
       "      <td>1.327170e+01</td>\n",
       "    </tr>\n",
       "    <tr>\n",
       "      <td>min</td>\n",
       "      <td>1.662600e+05</td>\n",
       "      <td>2.500000e+01</td>\n",
       "      <td>1.000000e+00</td>\n",
       "    </tr>\n",
       "    <tr>\n",
       "      <td>25%</td>\n",
       "      <td>6.588685e+05</td>\n",
       "      <td>2.250000e+02</td>\n",
       "      <td>6.000000e+00</td>\n",
       "    </tr>\n",
       "    <tr>\n",
       "      <td>50%</td>\n",
       "      <td>1.161094e+06</td>\n",
       "      <td>4.000000e+02</td>\n",
       "      <td>1.100000e+01</td>\n",
       "    </tr>\n",
       "    <tr>\n",
       "      <td>75%</td>\n",
       "      <td>1.627186e+06</td>\n",
       "      <td>6.500000e+02</td>\n",
       "      <td>2.000000e+01</td>\n",
       "    </tr>\n",
       "    <tr>\n",
       "      <td>max</td>\n",
       "      <td>2.084051e+06</td>\n",
       "      <td>1.000000e+04</td>\n",
       "      <td>3.460000e+02</td>\n",
       "    </tr>\n",
       "  </tbody>\n",
       "</table>\n",
       "</div>"
      ],
      "text/plain": [
       "            LOAN_ID   LOAN_AMOUNT  NUM_LENDERS_TOTAL\n",
       "count  1.232239e+06  1.232239e+06       1.232239e+06\n",
       "mean   1.142227e+06  5.188247e+02       1.509632e+01\n",
       "std    5.570388e+05  4.149715e+02       1.327170e+01\n",
       "min    1.662600e+05  2.500000e+01       1.000000e+00\n",
       "25%    6.588685e+05  2.250000e+02       6.000000e+00\n",
       "50%    1.161094e+06  4.000000e+02       1.100000e+01\n",
       "75%    1.627186e+06  6.500000e+02       2.000000e+01\n",
       "max    2.084051e+06  1.000000e+04       3.460000e+02"
      ]
     },
     "execution_count": 85,
     "metadata": {},
     "output_type": "execute_result"
    }
   ],
   "source": [
    "data.describe()"
   ]
  },
  {
   "cell_type": "markdown",
   "metadata": {},
   "source": [
    "### Variable creation and descriptives"
   ]
  },
  {
   "cell_type": "code",
   "execution_count": 86,
   "metadata": {},
   "outputs": [],
   "source": [
    "# Year\n",
    "data['year'] = data['RAISED_TIME'].dt.year"
   ]
  },
  {
   "cell_type": "code",
   "execution_count": 87,
   "metadata": {},
   "outputs": [],
   "source": [
    "# Gender\n",
    "# data['gender'] = np.where(data['BORROWER_GENDERS']=='female', 0, 1)\n",
    "data['gender'] = data['BORROWER_GENDERS'].astype(\"category\").cat.codes"
   ]
  },
  {
   "cell_type": "code",
   "execution_count": 88,
   "metadata": {},
   "outputs": [],
   "source": [
    "# Pandemic\n",
    "data['pandemic'] = np.where(data['POSTED_TIME'].dt.year.isin([2020]),1,0)"
   ]
  },
  {
   "cell_type": "code",
   "execution_count": 89,
   "metadata": {},
   "outputs": [],
   "source": [
    "# Pandemic - Gender interaction\n",
    "data['pandemic_gender'] = data['pandemic']*data['gender']"
   ]
  },
  {
   "cell_type": "code",
   "execution_count": 90,
   "metadata": {},
   "outputs": [],
   "source": [
    "# Difference between posted and raised time\n",
    "data['days_to_funding'] = data['RAISED_TIME'].sub(data['POSTED_TIME'], axis=0)\n",
    "data['days_to_funding'] = data['days_to_funding'] / np.timedelta64(1, 'D')"
   ]
  },
  {
   "cell_type": "code",
   "execution_count": 91,
   "metadata": {},
   "outputs": [],
   "source": [
    "data['days_to_funding_2'] = data['days_to_funding']*data['days_to_funding']"
   ]
  },
  {
   "cell_type": "code",
   "execution_count": 92,
   "metadata": {},
   "outputs": [],
   "source": [
    "# Number of lenders\n",
    "data['NUM_LENDERS_TOTAL_2'] = data['NUM_LENDERS_TOTAL'] * data['NUM_LENDERS_TOTAL']"
   ]
  },
  {
   "cell_type": "code",
   "execution_count": 93,
   "metadata": {},
   "outputs": [],
   "source": [
    "# Borrower pictured\n",
    "data['picture'] = np.where(data['BORROWER_PICTURED']=='false', 0, 1)"
   ]
  },
  {
   "cell_type": "code",
   "execution_count": 94,
   "metadata": {},
   "outputs": [],
   "source": [
    "data['picture_gender'] = data['picture'] * data['gender']"
   ]
  },
  {
   "cell_type": "code",
   "execution_count": 95,
   "metadata": {},
   "outputs": [],
   "source": [
    "# data.head()"
   ]
  },
  {
   "cell_type": "code",
   "execution_count": 96,
   "metadata": {},
   "outputs": [],
   "source": [
    "data_year_mean = data.groupby(['year','gender']).mean().reset_index()"
   ]
  },
  {
   "cell_type": "code",
   "execution_count": 97,
   "metadata": {},
   "outputs": [],
   "source": [
    "data_year_count = data.groupby(['year','gender']).count().reset_index()"
   ]
  },
  {
   "cell_type": "code",
   "execution_count": 98,
   "metadata": {},
   "outputs": [],
   "source": [
    "data_year_count_pct = data[['year','gender','LOAN_ID']].groupby(['year','gender']).count().reset_index().rename(columns={'LOAN_ID':'count'}).merge(data[['year','LOAN_ID']].groupby(['year']).count().reset_index().rename(columns={'LOAN_ID':'total'}),how='left',on='year')\n",
    "data_year_count_pct['percent']=data_year_count_pct['count']/data_year_count_pct['total']*100\n",
    "data_year_count_pct = data_year_count_pct[['year','percent','gender']].pivot(index='year',columns='gender').reset_index()\n"
   ]
  },
  {
   "cell_type": "code",
   "execution_count": 99,
   "metadata": {},
   "outputs": [
    {
     "data": {
      "image/png": "[encoded data removed]",
      "text/plain": [
       "<Figure size 720x288 with 1 Axes>"
      ]
     },
     "metadata": {
      "needs_background": "light"
     },
     "output_type": "display_data"
    }
   ],
   "source": [
    "data_year_count_pct.plot(x='year',y='percent', kind='bar', stacked=True, figsize=(10,4))\n",
    "plt.ylabel('Share of Loans (%)')\n",
    "plt.xlabel('Year')\n",
    "plt.legend(title='Gender', labels = ['Female','Male'], loc='lower right');"
   ]
  },
  {
   "cell_type": "code",
   "execution_count": 100,
   "metadata": {},
   "outputs": [],
   "source": [
    "data_year_count_pct = data[data['SECTOR_NAME']=='Personal Use'][['year','gender','LOAN_ID']].groupby(['year','gender']).count().reset_index().rename(columns={'LOAN_ID':'count'}).merge(data[data['SECTOR_NAME']=='Personal Use'][['year','LOAN_ID']].groupby(['year']).count().reset_index().rename(columns={'LOAN_ID':'total'}),how='left',on='year')\n",
    "data_year_count_pct['percent']=data_year_count_pct['count']/data_year_count_pct['total']*100\n",
    "data_year_count_pct = data_year_count_pct[['year','percent','gender']].pivot(index='year',columns='gender').reset_index()\n"
   ]
  },
  {
   "cell_type": "code",
   "execution_count": 101,
   "metadata": {},
   "outputs": [
    {
     "data": {
      "image/png": "[encoded data removed]",
      "text/plain": [
       "<Figure size 432x288 with 1 Axes>"
      ]
     },
     "metadata": {
      "needs_background": "light"
     },
     "output_type": "display_data"
    }
   ],
   "source": [
    "data_year_count_pct.plot(x='year',y='percent', kind='bar', stacked=True, figsize=(6,4))\n",
    "plt.ylabel('Share of Loans (%)')\n",
    "plt.xlabel('Year')\n",
    "plt.legend(title='Gender', labels = ['Female','Male'], loc='lower right');"
   ]
  },
  {
   "cell_type": "code",
   "execution_count": 102,
   "metadata": {},
   "outputs": [
    {
     "data": {
      "image/png": "[encoded data removed]",
      "text/plain": [
       "<Figure size 475.5x288 with 1 Axes>"
      ]
     },
     "metadata": {
      "needs_background": "light"
     },
     "output_type": "display_data"
    }
   ],
   "source": [
    "g = sns.catplot(x=\"year\", y=\"LOAN_AMOUNT\", hue=\"gender\", kind=\"point\", data=data_year_mean, height=4, aspect=12/8)\n",
    "plt.ylabel('Loan Amount ($)')\n",
    "plt.xlabel('Year')\n",
    "# title\n",
    "new_title = 'Gender'\n",
    "g._legend.set_title(new_title)\n",
    "# labels\n",
    "new_labels = ['Female', 'Male']\n",
    "for t, l in zip(g._legend.texts, new_labels):\n",
    "    t.set_text(l)\n",
    "g._legend._loc = 1;"
   ]
  },
  {
   "cell_type": "code",
   "execution_count": 103,
   "metadata": {},
   "outputs": [
    {
     "data": {
      "image/png": "[encoded data removed]",
      "text/plain": [
       "<Figure size 475.5x288 with 1 Axes>"
      ]
     },
     "metadata": {
      "needs_background": "light"
     },
     "output_type": "display_data"
    }
   ],
   "source": [
    "g = sns.catplot(x=\"year\", y=\"LOAN_AMOUNT\", hue=\"gender\", kind=\"point\", data=data_year_count, height=4, aspect=12/8)\n",
    "plt.ylabel('Number of loans')\n",
    "plt.xlabel('Year')\n",
    "# title\n",
    "new_title = 'Gender'\n",
    "g._legend.set_title(new_title)\n",
    "# labels\n",
    "new_labels = ['Female', 'Male']\n",
    "for t, l in zip(g._legend.texts, new_labels):\n",
    "    t.set_text(l)\n",
    "g._legend._loc = 1;"
   ]
  },
  {
   "cell_type": "code",
   "execution_count": 104,
   "metadata": {},
   "outputs": [],
   "source": [
    "data_sector_count_pct = data[['SECTOR_NAME','gender','LOAN_ID']].groupby(['SECTOR_NAME','gender']).count().reset_index().rename(columns={'LOAN_ID':'count'}).merge(data[['SECTOR_NAME','LOAN_ID']].groupby(['SECTOR_NAME']).count().reset_index().rename(columns={'LOAN_ID':'total'}),how='left',on='SECTOR_NAME')\n",
    "data_sector_count_pct['percent']=data_sector_count_pct['count']/data_sector_count_pct['total']*100\n",
    "data_sector_count_pct = data_sector_count_pct[['SECTOR_NAME','percent','gender']].pivot(index='SECTOR_NAME',columns='gender').reset_index()\n"
   ]
  },
  {
   "cell_type": "code",
   "execution_count": 105,
   "metadata": {},
   "outputs": [
    {
     "data": {
      "image/png": "[encoded data removed]",
      "text/plain": [
       "<Figure size 432x288 with 1 Axes>"
      ]
     },
     "metadata": {
      "needs_background": "light"
     },
     "output_type": "display_data"
    }
   ],
   "source": [
    "data_sector_count_pct.sort_values(by=[('percent',1)]).plot(x='SECTOR_NAME',y='percent', kind='bar', stacked=True, figsize=(6,4))\n",
    "plt.ylabel('Share of Loans (%)')\n",
    "plt.xlabel('Sector')\n",
    "plt.legend(title='Gender', labels = ['Female','Male'], loc='lower right');"
   ]
  },
  {
   "cell_type": "code",
   "execution_count": 106,
   "metadata": {},
   "outputs": [
    {
     "data": {
      "image/png": "[encoded data removed]",
      "text/plain": [
       "<Figure size 864x360 with 1 Axes>"
      ]
     },
     "metadata": {
      "needs_background": "light"
     },
     "output_type": "display_data"
    }
   ],
   "source": [
    "# LOAN AMOUNT\n",
    "plt.figure(figsize=(12,5))\n",
    "sns.distplot(data[data['gender']==0]['LOAN_AMOUNT'], hist=True, color='steelblue', label = 'Female', kde_kws={'clip': (0, 6000)})\n",
    "sns.distplot(data[data['gender']==1]['LOAN_AMOUNT'], hist=True, color='darkorange', label = 'Male', kde_kws={'clip': (0, 6000)})\n",
    "plt.axvline(data[data['gender']==0]['LOAN_AMOUNT'].mean(), color=\"steelblue\", label = 'Female average',  linestyle=\"--\")\n",
    "plt.axvline(data[data['gender']==1]['LOAN_AMOUNT'].mean(), color=\"darkorange\", label = 'Male average', linestyle=\"--\")\n",
    "plt.xlabel('Loan Amount')\n",
    "plt.legend();"
   ]
  },
  {
   "cell_type": "code",
   "execution_count": 107,
   "metadata": {},
   "outputs": [
    {
     "data": {
      "image/png": "[encoded data removed]",
      "text/plain": [
       "<Figure size 864x360 with 1 Axes>"
      ]
     },
     "metadata": {
      "needs_background": "light"
     },
     "output_type": "display_data"
    }
   ],
   "source": [
    "# NUMBER OF LENDERS\n",
    "plt.figure(figsize=(12,5))\n",
    "sns.distplot(data[data['gender']==0]['NUM_LENDERS_TOTAL'], hist=True, color='steelblue', label = 'Female', kde_kws={'clip': (0, 6000)})\n",
    "sns.distplot(data[data['gender']==1]['NUM_LENDERS_TOTAL'], hist=True, color='darkorange', label = 'Male', kde_kws={'clip': (0, 6000)})\n",
    "plt.axvline(data[data['gender']==0]['NUM_LENDERS_TOTAL'].mean(), color=\"steelblue\", label = 'Female average', linestyle=\"--\")\n",
    "plt.axvline(data[data['gender']==1]['NUM_LENDERS_TOTAL'].mean(), color=\"darkorange\", label = 'Male average', linestyle=\"--\")\n",
    "plt.xlabel('Number of Lenders')\n",
    "plt.legend();"
   ]
  },
  {
   "cell_type": "code",
   "execution_count": 108,
   "metadata": {},
   "outputs": [
    {
     "data": {
      "image/png": "[encoded data removed]",
      "text/plain": [
       "<Figure size 864x360 with 1 Axes>"
      ]
     },
     "metadata": {
      "needs_background": "light"
     },
     "output_type": "display_data"
    }
   ],
   "source": [
    "# DAYS TO FUNDING\n",
    "plt.figure(figsize=(12,5))\n",
    "sns.distplot(data[data['gender']==0]['days_to_funding'], hist=True, color='steelblue', label = 'Female', kde_kws={'clip': (0, 6000)})\n",
    "sns.distplot(data[data['gender']==1]['days_to_funding'], hist=True, color='darkorange', label = 'Male', kde_kws={'clip': (0, 6000)})\n",
    "plt.axvline(data[data['gender']==0]['days_to_funding'].mean(), color=\"steelblue\", label = 'Female average', linestyle=\"--\")\n",
    "plt.axvline(data[data['gender']==1]['days_to_funding'].mean(), color=\"darkorange\", label = 'Male average', linestyle=\"--\")\n",
    "plt.xlabel('Days to Funding')\n",
    "plt.legend(title = 'Gender');"
   ]
  },
  {
   "cell_type": "code",
   "execution_count": 109,
   "metadata": {},
   "outputs": [],
   "source": [
    "data_country_mean = data.groupby(['COUNTRY_NAME','gender']).mean().reset_index()"
   ]
  },
  {
   "cell_type": "code",
   "execution_count": 110,
   "metadata": {},
   "outputs": [],
   "source": [
    "data_sector_mean = data.groupby(['SECTOR_NAME','gender']).mean().reset_index()"
   ]
  },
  {
   "cell_type": "code",
   "execution_count": 111,
   "metadata": {},
   "outputs": [
    {
     "data": {
      "image/png": "[encoded data removed]",
      "text/plain": [
       "<Figure size 1195.5x576 with 1 Axes>"
      ]
     },
     "metadata": {
      "needs_background": "light"
     },
     "output_type": "display_data"
    }
   ],
   "source": [
    "g = sns.catplot(x=\"COUNTRY_NAME\", y=\"LOAN_AMOUNT\", hue=\"gender\", kind=\"bar\", data=data_country_mean.sort_values(by='LOAN_AMOUNT',ascending=False), height=8, aspect=16/8)\n",
    "plt.ylabel('Loan Amount ($)')\n",
    "plt.xlabel('Country')\n",
    "# title\n",
    "new_title = 'Gender'\n",
    "g._legend.set_title(new_title)\n",
    "# labels\n",
    "new_labels = ['Female', 'Male']\n",
    "for t, l in zip(g._legend.texts, new_labels):\n",
    "    t.set_text(l)\n",
    "g._legend._loc = 1;"
   ]
  },
  {
   "cell_type": "code",
   "execution_count": 112,
   "metadata": {},
   "outputs": [
    {
     "data": {
      "image/png": "[encoded data removed]",
      "text/plain": [
       "<Figure size 1195.5x576 with 1 Axes>"
      ]
     },
     "metadata": {
      "needs_background": "light"
     },
     "output_type": "display_data"
    }
   ],
   "source": [
    "g = sns.catplot(x=\"SECTOR_NAME\", y=\"LOAN_AMOUNT\", hue=\"gender\", kind=\"bar\", data=data_sector_mean.sort_values(by='LOAN_AMOUNT',ascending=False), height=8, aspect=16/8)\n",
    "plt.ylabel('Loan Amount ($)')\n",
    "plt.xlabel('Sector')\n",
    "# title\n",
    "new_title = 'Gender'\n",
    "g._legend.set_title(new_title)\n",
    "# labels\n",
    "new_labels = ['Female', 'Male']\n",
    "for t, l in zip(g._legend.texts, new_labels):\n",
    "    t.set_text(l)\n",
    "g._legend._loc = 1;"
   ]
  },
  {
   "cell_type": "code",
   "execution_count": 113,
   "metadata": {},
   "outputs": [],
   "source": [
    "n_loans = data[['COUNTRY_NAME','LOAN_AMOUNT']].groupby('COUNTRY_NAME').count().reset_index().rename(columns={'LOAN_AMOUNT':'Total Number of Loans','COUNTRY_NAME':'Country'})\n",
    "n_loans_female = data[data['gender']==0][['COUNTRY_NAME','LOAN_AMOUNT']].groupby('COUNTRY_NAME').count().reset_index().rename(columns={'LOAN_AMOUNT':'Number of Loans - Female','COUNTRY_NAME':'Country'})\n",
    "n_loans_male = data[data['gender']==1][['COUNTRY_NAME','LOAN_AMOUNT']].groupby('COUNTRY_NAME').count().reset_index().rename(columns={'LOAN_AMOUNT':'Number of Loans - Male','COUNTRY_NAME':'Country'})\n",
    "mean_loans_female = data[data['gender']==0][['COUNTRY_NAME','LOAN_AMOUNT']].groupby('COUNTRY_NAME').mean().reset_index().rename(columns={'LOAN_AMOUNT':'Mean Loan Amount - Female','COUNTRY_NAME':'Country'})\n",
    "mean_loans_male = data[data['gender']==1][['COUNTRY_NAME','LOAN_AMOUNT']].groupby('COUNTRY_NAME').mean().reset_index().rename(columns={'LOAN_AMOUNT':'Mean Loan Amount - Male','COUNTRY_NAME':'Country'})\n"
   ]
  },
  {
   "cell_type": "code",
   "execution_count": 114,
   "metadata": {},
   "outputs": [],
   "source": [
    "summary_stats = n_loans.merge(n_loans_female,on='Country',how='left').merge(n_loans_male,on='Country',how='left').merge(mean_loans_female,on='Country',how='left').merge(mean_loans_male,on='Country',how='left')\n"
   ]
  },
  {
   "cell_type": "code",
   "execution_count": 115,
   "metadata": {},
   "outputs": [],
   "source": [
    "summary_stats['Share of Loans - Female'] = summary_stats['Number of Loans - Female']/summary_stats['Total Number of Loans']*100\n",
    "summary_stats['Share of Loans - Male'] = summary_stats['Number of Loans - Male']/summary_stats['Total Number of Loans']*100"
   ]
  },
  {
   "cell_type": "code",
   "execution_count": 116,
   "metadata": {},
   "outputs": [
    {
     "data": {
      "text/html": [
       "<div>\n",
       "<style scoped>\n",
       "    .dataframe tbody tr th:only-of-type {\n",
       "        vertical-align: middle;\n",
       "    }\n",
       "\n",
       "    .dataframe tbody tr th {\n",
       "        vertical-align: top;\n",
       "    }\n",
       "\n",
       "    .dataframe thead th {\n",
       "        text-align: right;\n",
       "    }\n",
       "</style>\n",
       "<table border=\"1\" class=\"dataframe\">\n",
       "  <thead>\n",
       "    <tr style=\"text-align: right;\">\n",
       "      <th></th>\n",
       "      <th>Country</th>\n",
       "      <th>Total Number of Loans</th>\n",
       "      <th>Share of Loans - Female (%)</th>\n",
       "      <th>Share of Loans - Male (%)</th>\n",
       "      <th>Mean Loan Amount - Female ($)</th>\n",
       "      <th>Mean Loan Amount - Male ($)</th>\n",
       "    </tr>\n",
       "  </thead>\n",
       "  <tbody>\n",
       "    <tr>\n",
       "      <td>16</td>\n",
       "      <td>Philippines</td>\n",
       "      <td>404786</td>\n",
       "      <td>94.2</td>\n",
       "      <td>5.8</td>\n",
       "      <td>321.1</td>\n",
       "      <td>412.0</td>\n",
       "    </tr>\n",
       "    <tr>\n",
       "      <td>7</td>\n",
       "      <td>Kenya</td>\n",
       "      <td>166766</td>\n",
       "      <td>74.0</td>\n",
       "      <td>26.0</td>\n",
       "      <td>376.3</td>\n",
       "      <td>415.0</td>\n",
       "    </tr>\n",
       "    <tr>\n",
       "      <td>4</td>\n",
       "      <td>El Salvador</td>\n",
       "      <td>73790</td>\n",
       "      <td>63.2</td>\n",
       "      <td>36.8</td>\n",
       "      <td>611.6</td>\n",
       "      <td>601.2</td>\n",
       "    </tr>\n",
       "    <tr>\n",
       "      <td>15</td>\n",
       "      <td>Peru</td>\n",
       "      <td>63168</td>\n",
       "      <td>67.8</td>\n",
       "      <td>32.2</td>\n",
       "      <td>677.5</td>\n",
       "      <td>713.4</td>\n",
       "    </tr>\n",
       "    <tr>\n",
       "      <td>20</td>\n",
       "      <td>Uganda</td>\n",
       "      <td>54841</td>\n",
       "      <td>57.2</td>\n",
       "      <td>42.8</td>\n",
       "      <td>417.5</td>\n",
       "      <td>620.6</td>\n",
       "    </tr>\n",
       "    <tr>\n",
       "      <td>18</td>\n",
       "      <td>Tajikistan</td>\n",
       "      <td>52956</td>\n",
       "      <td>70.0</td>\n",
       "      <td>30.0</td>\n",
       "      <td>729.5</td>\n",
       "      <td>864.8</td>\n",
       "    </tr>\n",
       "    <tr>\n",
       "      <td>3</td>\n",
       "      <td>Ecuador</td>\n",
       "      <td>48622</td>\n",
       "      <td>79.0</td>\n",
       "      <td>21.0</td>\n",
       "      <td>986.4</td>\n",
       "      <td>919.9</td>\n",
       "    </tr>\n",
       "    <tr>\n",
       "      <td>13</td>\n",
       "      <td>Pakistan</td>\n",
       "      <td>46625</td>\n",
       "      <td>95.7</td>\n",
       "      <td>4.3</td>\n",
       "      <td>429.5</td>\n",
       "      <td>1116.3</td>\n",
       "    </tr>\n",
       "    <tr>\n",
       "      <td>2</td>\n",
       "      <td>Colombia</td>\n",
       "      <td>46514</td>\n",
       "      <td>62.9</td>\n",
       "      <td>37.1</td>\n",
       "      <td>587.4</td>\n",
       "      <td>560.8</td>\n",
       "    </tr>\n",
       "    <tr>\n",
       "      <td>1</td>\n",
       "      <td>Cambodia</td>\n",
       "      <td>35564</td>\n",
       "      <td>83.3</td>\n",
       "      <td>16.7</td>\n",
       "      <td>758.6</td>\n",
       "      <td>781.0</td>\n",
       "    </tr>\n",
       "    <tr>\n",
       "      <td>11</td>\n",
       "      <td>Nicaragua</td>\n",
       "      <td>34796</td>\n",
       "      <td>65.7</td>\n",
       "      <td>34.3</td>\n",
       "      <td>620.5</td>\n",
       "      <td>651.9</td>\n",
       "    </tr>\n",
       "    <tr>\n",
       "      <td>8</td>\n",
       "      <td>Lebanon</td>\n",
       "      <td>22720</td>\n",
       "      <td>56.2</td>\n",
       "      <td>43.8</td>\n",
       "      <td>1166.7</td>\n",
       "      <td>1329.4</td>\n",
       "    </tr>\n",
       "    <tr>\n",
       "      <td>21</td>\n",
       "      <td>Vietnam</td>\n",
       "      <td>21819</td>\n",
       "      <td>91.7</td>\n",
       "      <td>8.3</td>\n",
       "      <td>809.6</td>\n",
       "      <td>887.4</td>\n",
       "    </tr>\n",
       "    <tr>\n",
       "      <td>6</td>\n",
       "      <td>India</td>\n",
       "      <td>21759</td>\n",
       "      <td>98.4</td>\n",
       "      <td>1.6</td>\n",
       "      <td>345.8</td>\n",
       "      <td>562.1</td>\n",
       "    </tr>\n",
       "    <tr>\n",
       "      <td>9</td>\n",
       "      <td>Liberia</td>\n",
       "      <td>18369</td>\n",
       "      <td>98.7</td>\n",
       "      <td>1.3</td>\n",
       "      <td>295.7</td>\n",
       "      <td>988.7</td>\n",
       "    </tr>\n",
       "    <tr>\n",
       "      <td>17</td>\n",
       "      <td>Samoa</td>\n",
       "      <td>18327</td>\n",
       "      <td>99.5</td>\n",
       "      <td>0.5</td>\n",
       "      <td>693.9</td>\n",
       "      <td>752.4</td>\n",
       "    </tr>\n",
       "    <tr>\n",
       "      <td>19</td>\n",
       "      <td>Togo</td>\n",
       "      <td>18004</td>\n",
       "      <td>90.5</td>\n",
       "      <td>9.5</td>\n",
       "      <td>351.2</td>\n",
       "      <td>602.4</td>\n",
       "    </tr>\n",
       "    <tr>\n",
       "      <td>12</td>\n",
       "      <td>Nigeria</td>\n",
       "      <td>17741</td>\n",
       "      <td>19.3</td>\n",
       "      <td>80.7</td>\n",
       "      <td>312.1</td>\n",
       "      <td>203.4</td>\n",
       "    </tr>\n",
       "    <tr>\n",
       "      <td>5</td>\n",
       "      <td>Honduras</td>\n",
       "      <td>16938</td>\n",
       "      <td>64.7</td>\n",
       "      <td>35.3</td>\n",
       "      <td>686.1</td>\n",
       "      <td>657.2</td>\n",
       "    </tr>\n",
       "    <tr>\n",
       "      <td>10</td>\n",
       "      <td>Madagascar</td>\n",
       "      <td>16937</td>\n",
       "      <td>74.7</td>\n",
       "      <td>25.3</td>\n",
       "      <td>260.8</td>\n",
       "      <td>233.2</td>\n",
       "    </tr>\n",
       "    <tr>\n",
       "      <td>14</td>\n",
       "      <td>Palestine</td>\n",
       "      <td>16326</td>\n",
       "      <td>42.7</td>\n",
       "      <td>57.3</td>\n",
       "      <td>1914.0</td>\n",
       "      <td>1604.3</td>\n",
       "    </tr>\n",
       "    <tr>\n",
       "      <td>0</td>\n",
       "      <td>Bolivia</td>\n",
       "      <td>14871</td>\n",
       "      <td>58.2</td>\n",
       "      <td>41.8</td>\n",
       "      <td>1003.7</td>\n",
       "      <td>960.2</td>\n",
       "    </tr>\n",
       "  </tbody>\n",
       "</table>\n",
       "</div>"
      ],
      "text/plain": [
       "        Country  Total Number of Loans  Share of Loans - Female (%)  \\\n",
       "16  Philippines                 404786                         94.2   \n",
       "7         Kenya                 166766                         74.0   \n",
       "4   El Salvador                  73790                         63.2   \n",
       "15         Peru                  63168                         67.8   \n",
       "20       Uganda                  54841                         57.2   \n",
       "18   Tajikistan                  52956                         70.0   \n",
       "3       Ecuador                  48622                         79.0   \n",
       "13     Pakistan                  46625                         95.7   \n",
       "2      Colombia                  46514                         62.9   \n",
       "1      Cambodia                  35564                         83.3   \n",
       "11    Nicaragua                  34796                         65.7   \n",
       "8       Lebanon                  22720                         56.2   \n",
       "21      Vietnam                  21819                         91.7   \n",
       "6         India                  21759                         98.4   \n",
       "9       Liberia                  18369                         98.7   \n",
       "17        Samoa                  18327                         99.5   \n",
       "19         Togo                  18004                         90.5   \n",
       "12      Nigeria                  17741                         19.3   \n",
       "5      Honduras                  16938                         64.7   \n",
       "10   Madagascar                  16937                         74.7   \n",
       "14    Palestine                  16326                         42.7   \n",
       "0       Bolivia                  14871                         58.2   \n",
       "\n",
       "    Share of Loans - Male (%)  Mean Loan Amount - Female ($)  \\\n",
       "16                        5.8                          321.1   \n",
       "7                        26.0                          376.3   \n",
       "4                        36.8                          611.6   \n",
       "15                       32.2                          677.5   \n",
       "20                       42.8                          417.5   \n",
       "18                       30.0                          729.5   \n",
       "3                        21.0                          986.4   \n",
       "13                        4.3                          429.5   \n",
       "2                        37.1                          587.4   \n",
       "1                        16.7                          758.6   \n",
       "11                       34.3                          620.5   \n",
       "8                        43.8                         1166.7   \n",
       "21                        8.3                          809.6   \n",
       "6                         1.6                          345.8   \n",
       "9                         1.3                          295.7   \n",
       "17                        0.5                          693.9   \n",
       "19                        9.5                          351.2   \n",
       "12                       80.7                          312.1   \n",
       "5                        35.3                          686.1   \n",
       "10                       25.3                          260.8   \n",
       "14                       57.3                         1914.0   \n",
       "0                        41.8                         1003.7   \n",
       "\n",
       "    Mean Loan Amount - Male ($)  \n",
       "16                        412.0  \n",
       "7                         415.0  \n",
       "4                         601.2  \n",
       "15                        713.4  \n",
       "20                        620.6  \n",
       "18                        864.8  \n",
       "3                         919.9  \n",
       "13                       1116.3  \n",
       "2                         560.8  \n",
       "1                         781.0  \n",
       "11                        651.9  \n",
       "8                        1329.4  \n",
       "21                        887.4  \n",
       "6                         562.1  \n",
       "9                         988.7  \n",
       "17                        752.4  \n",
       "19                        602.4  \n",
       "12                        203.4  \n",
       "5                         657.2  \n",
       "10                        233.2  \n",
       "14                       1604.3  \n",
       "0                         960.2  "
      ]
     },
     "execution_count": 116,
     "metadata": {},
     "output_type": "execute_result"
    }
   ],
   "source": [
    "summary_stats[['Country','Total Number of Loans','Share of Loans - Female','Share of Loans - Male','Mean Loan Amount - Female','Mean Loan Amount - Male']].round(1).rename(columns={'Share of Loans - Female':'Share of Loans - Female (%)','Share of Loans - Male':'Share of Loans - Male (%)','Mean Loan Amount - Female':'Mean Loan Amount - Female ($)','Mean Loan Amount - Male':'Mean Loan Amount - Male ($)'}).sort_values(by='Total Number of Loans',ascending=False)"
   ]
  },
  {
   "cell_type": "code",
   "execution_count": 117,
   "metadata": {},
   "outputs": [],
   "source": [
    "def dummify(df, col_list):\n",
    "    for col in col_list:\n",
    "        dummies = pd.get_dummies(df[col],prefix=col)\n",
    "        df[dummies.columns] = dummies\n",
    "    return df"
   ]
  },
  {
   "cell_type": "code",
   "execution_count": 118,
   "metadata": {},
   "outputs": [],
   "source": [
    "data = dummify(data,['SECTOR_NAME','COUNTRY_NAME'])"
   ]
  },
  {
   "cell_type": "code",
   "execution_count": 119,
   "metadata": {},
   "outputs": [],
   "source": [
    "def logify(df, col_list):\n",
    "    for col in col_list:\n",
    "        df[col+'_log'] = np.log(df[col]+1)\n",
    "    return df"
   ]
  },
  {
   "cell_type": "code",
   "execution_count": 120,
   "metadata": {},
   "outputs": [],
   "source": [
    "data = logify(data,['LOAN_AMOUNT','NUM_LENDERS_TOTAL','days_to_funding'])"
   ]
  },
  {
   "cell_type": "code",
   "execution_count": 121,
   "metadata": {},
   "outputs": [],
   "source": [
    "for sector in data[['SECTOR_NAME_Agriculture', 'SECTOR_NAME_Arts', 'SECTOR_NAME_Clothing',\n",
    "       'SECTOR_NAME_Construction', 'SECTOR_NAME_Education',\n",
    "       'SECTOR_NAME_Entertainment', 'SECTOR_NAME_Food', 'SECTOR_NAME_Health',\n",
    "       'SECTOR_NAME_Housing', 'SECTOR_NAME_Manufacturing',\n",
    "       'SECTOR_NAME_Personal Use', 'SECTOR_NAME_Retail',\n",
    "       'SECTOR_NAME_Services', 'SECTOR_NAME_Transportation', 'SECTOR_NAME_Food',\n",
    "       'SECTOR_NAME_Wholesale']].columns:\n",
    "    data[sector+'_gender'] = data[sector]*data['gender']"
   ]
  },
  {
   "cell_type": "markdown",
   "metadata": {},
   "source": [
    "### Model"
   ]
  },
  {
   "cell_type": "code",
   "execution_count": 122,
   "metadata": {},
   "outputs": [
    {
     "data": {
      "text/plain": [
       "Index(['LOAN_ID', 'LOAN_AMOUNT', 'STATUS', 'SECTOR_NAME', 'COUNTRY_NAME',\n",
       "       'POSTED_TIME', 'RAISED_TIME', 'NUM_LENDERS_TOTAL', 'BORROWER_GENDERS',\n",
       "       'BORROWER_PICTURED', 'REPAYMENT_INTERVAL', 'DISTRIBUTION_MODEL', 'year',\n",
       "       'gender', 'pandemic', 'pandemic_gender', 'days_to_funding',\n",
       "       'days_to_funding_2', 'NUM_LENDERS_TOTAL_2', 'picture', 'picture_gender',\n",
       "       'SECTOR_NAME_Agriculture', 'SECTOR_NAME_Arts', 'SECTOR_NAME_Clothing',\n",
       "       'SECTOR_NAME_Construction', 'SECTOR_NAME_Education',\n",
       "       'SECTOR_NAME_Entertainment', 'SECTOR_NAME_Food', 'SECTOR_NAME_Health',\n",
       "       'SECTOR_NAME_Housing', 'SECTOR_NAME_Manufacturing',\n",
       "       'SECTOR_NAME_Personal Use', 'SECTOR_NAME_Retail',\n",
       "       'SECTOR_NAME_Services', 'SECTOR_NAME_Transportation',\n",
       "       'SECTOR_NAME_Wholesale', 'COUNTRY_NAME_Bolivia',\n",
       "       'COUNTRY_NAME_Cambodia', 'COUNTRY_NAME_Colombia',\n",
       "       'COUNTRY_NAME_Ecuador', 'COUNTRY_NAME_El Salvador',\n",
       "       'COUNTRY_NAME_Honduras', 'COUNTRY_NAME_India', 'COUNTRY_NAME_Kenya',\n",
       "       'COUNTRY_NAME_Lebanon', 'COUNTRY_NAME_Liberia',\n",
       "       'COUNTRY_NAME_Madagascar', 'COUNTRY_NAME_Nicaragua',\n",
       "       'COUNTRY_NAME_Nigeria', 'COUNTRY_NAME_Pakistan',\n",
       "       'COUNTRY_NAME_Palestine', 'COUNTRY_NAME_Peru',\n",
       "       'COUNTRY_NAME_Philippines', 'COUNTRY_NAME_Samoa',\n",
       "       'COUNTRY_NAME_Tajikistan', 'COUNTRY_NAME_Togo', 'COUNTRY_NAME_Uganda',\n",
       "       'COUNTRY_NAME_Vietnam', 'LOAN_AMOUNT_log', 'NUM_LENDERS_TOTAL_log',\n",
       "       'days_to_funding_log', 'SECTOR_NAME_Agriculture_gender',\n",
       "       'SECTOR_NAME_Arts_gender', 'SECTOR_NAME_Clothing_gender',\n",
       "       'SECTOR_NAME_Construction_gender', 'SECTOR_NAME_Education_gender',\n",
       "       'SECTOR_NAME_Entertainment_gender', 'SECTOR_NAME_Food_gender',\n",
       "       'SECTOR_NAME_Health_gender', 'SECTOR_NAME_Housing_gender',\n",
       "       'SECTOR_NAME_Manufacturing_gender', 'SECTOR_NAME_Personal Use_gender',\n",
       "       'SECTOR_NAME_Retail_gender', 'SECTOR_NAME_Services_gender',\n",
       "       'SECTOR_NAME_Transportation_gender', 'SECTOR_NAME_Wholesale_gender'],\n",
       "      dtype='object')"
      ]
     },
     "execution_count": 122,
     "metadata": {},
     "output_type": "execute_result"
    }
   ],
   "source": [
    "data.columns"
   ]
  },
  {
   "cell_type": "code",
   "execution_count": 123,
   "metadata": {},
   "outputs": [],
   "source": [
    "data['constant'] = 1"
   ]
  },
  {
   "cell_type": "code",
   "execution_count": 124,
   "metadata": {},
   "outputs": [
    {
     "name": "stdout",
     "output_type": "stream",
     "text": [
      "                            OLS Regression Results                            \n",
      "==============================================================================\n",
      "Dep. Variable:        LOAN_AMOUNT_log   R-squared:                       0.021\n",
      "Model:                            OLS   Adj. R-squared:                  0.021\n",
      "Method:                 Least Squares   F-statistic:                 2.596e+04\n",
      "Date:                Thu, 23 Dec 2021   Prob (F-statistic):               0.00\n",
      "Time:                        10:52:07   Log-Likelihood:            -1.3597e+06\n",
      "No. Observations:             1232239   AIC:                         2.719e+06\n",
      "Df Residuals:                 1232237   BIC:                         2.720e+06\n",
      "Df Model:                           1                                         \n",
      "Covariance Type:            nonrobust                                         \n",
      "==============================================================================\n",
      "                 coef    std err          t      P>|t|      [0.025      0.975]\n",
      "------------------------------------------------------------------------------\n",
      "gender         0.2612      0.002    161.110      0.000       0.258       0.264\n",
      "constant       5.9327      0.001   8038.094      0.000       5.931       5.934\n",
      "==============================================================================\n",
      "Omnibus:                     1894.861   Durbin-Watson:                   1.982\n",
      "Prob(Omnibus):                  0.000   Jarque-Bera (JB):             1826.160\n",
      "Skew:                          -0.077   Prob(JB):                         0.00\n",
      "Kurtosis:                       2.891   Cond. No.                         2.59\n",
      "==============================================================================\n",
      "\n",
      "Warnings:\n",
      "[1] Standard Errors assume that the covariance matrix of the errors is correctly specified.\n"
     ]
    }
   ],
   "source": [
    "# BASELINE\n",
    "y = data['LOAN_AMOUNT_log']\n",
    "X = data[['gender', 'constant']]\n",
    "\n",
    "model_1 = sm.OLS(y, X).fit()\n",
    "predictions = model_1.predict(X) \n",
    "\n",
    "print_model_1 = model_1.summary()\n",
    "print(print_model_1)"
   ]
  },
  {
   "cell_type": "code",
   "execution_count": 125,
   "metadata": {},
   "outputs": [
    {
     "name": "stdout",
     "output_type": "stream",
     "text": [
      "                            OLS Regression Results                            \n",
      "==============================================================================\n",
      "Dep. Variable:        LOAN_AMOUNT_log   R-squared:                       0.361\n",
      "Model:                            OLS   Adj. R-squared:                  0.361\n",
      "Method:                 Least Squares   F-statistic:                 3.158e+04\n",
      "Date:                Thu, 23 Dec 2021   Prob (F-statistic):               0.00\n",
      "Time:                        10:52:10   Log-Likelihood:            -1.0971e+06\n",
      "No. Observations:             1232239   AIC:                         2.194e+06\n",
      "Df Residuals:                 1232216   BIC:                         2.194e+06\n",
      "Df Model:                          22                                         \n",
      "Covariance Type:            nonrobust                                         \n",
      "============================================================================================\n",
      "                               coef    std err          t      P>|t|      [0.025      0.975]\n",
      "--------------------------------------------------------------------------------------------\n",
      "gender                       0.0931      0.001     65.190      0.000       0.090       0.096\n",
      "COUNTRY_NAME_Bolivia         1.1342      0.005    229.217      0.000       1.125       1.144\n",
      "COUNTRY_NAME_Cambodia        0.8456      0.003    259.094      0.000       0.839       0.852\n",
      "COUNTRY_NAME_Colombia        0.5371      0.003    183.933      0.000       0.531       0.543\n",
      "COUNTRY_NAME_Ecuador         1.1682      0.003    411.713      0.000       1.163       1.174\n",
      "COUNTRY_NAME_El Salvador     0.6216      0.002    258.962      0.000       0.617       0.626\n",
      "COUNTRY_NAME_Honduras        0.7288      0.005    157.001      0.000       0.720       0.738\n",
      "COUNTRY_NAME_India           0.1684      0.004     41.049      0.000       0.160       0.176\n",
      "COUNTRY_NAME_Kenya           0.1091      0.002     62.726      0.000       0.106       0.112\n",
      "COUNTRY_NAME_Lebanon         1.3636      0.004    336.274      0.000       1.356       1.372\n",
      "COUNTRY_NAME_Liberia         0.0136      0.004      3.054      0.002       0.005       0.022\n",
      "COUNTRY_NAME_Madagascar     -0.2854      0.005    -61.619      0.000      -0.294      -0.276\n",
      "COUNTRY_NAME_Nicaragua       0.6512      0.003    196.291      0.000       0.645       0.658\n",
      "COUNTRY_NAME_Nigeria        -0.5633      0.005   -121.254      0.000      -0.572      -0.554\n",
      "COUNTRY_NAME_Pakistan        0.3913      0.003    135.732      0.000       0.386       0.397\n",
      "COUNTRY_NAME_Palestine       1.6798      0.005    352.743      0.000       1.670       1.689\n",
      "COUNTRY_NAME_Peru            0.7330      0.003    287.522      0.000       0.728       0.738\n",
      "COUNTRY_NAME_Samoa           0.8466      0.004    190.156      0.000       0.838       0.855\n",
      "COUNTRY_NAME_Tajikistan      0.7616      0.003    277.407      0.000       0.756       0.767\n",
      "COUNTRY_NAME_Togo            0.0040      0.004      0.894      0.371      -0.005       0.013\n",
      "COUNTRY_NAME_Uganda          0.3208      0.003    117.346      0.000       0.315       0.326\n",
      "COUNTRY_NAME_Vietnam         1.0020      0.004    244.601      0.000       0.994       1.010\n",
      "constant                     5.6144      0.001   6035.866      0.000       5.613       5.616\n",
      "==============================================================================\n",
      "Omnibus:                     7012.008   Durbin-Watson:                   1.991\n",
      "Prob(Omnibus):                  0.000   Jarque-Bera (JB):             7929.665\n",
      "Skew:                          -0.140   Prob(JB):                         0.00\n",
      "Kurtosis:                       3.276   Cond. No.                         11.8\n",
      "==============================================================================\n",
      "\n",
      "Warnings:\n",
      "[1] Standard Errors assume that the covariance matrix of the errors is correctly specified.\n"
     ]
    }
   ],
   "source": [
    "# NO INTERACTIONS + COUNTRY FE\n",
    "y = data['LOAN_AMOUNT_log']\n",
    "X = data[['gender',\n",
    "       'COUNTRY_NAME_Bolivia',\n",
    "       'COUNTRY_NAME_Cambodia', 'COUNTRY_NAME_Colombia',\n",
    "       'COUNTRY_NAME_Ecuador', 'COUNTRY_NAME_El Salvador',\n",
    "       'COUNTRY_NAME_Honduras', 'COUNTRY_NAME_India', 'COUNTRY_NAME_Kenya',\n",
    "       'COUNTRY_NAME_Lebanon', 'COUNTRY_NAME_Liberia',\n",
    "       'COUNTRY_NAME_Madagascar', 'COUNTRY_NAME_Nicaragua',\n",
    "       'COUNTRY_NAME_Nigeria', 'COUNTRY_NAME_Pakistan',\n",
    "       'COUNTRY_NAME_Palestine', 'COUNTRY_NAME_Peru', 'COUNTRY_NAME_Samoa',\n",
    "       'COUNTRY_NAME_Tajikistan', 'COUNTRY_NAME_Togo', 'COUNTRY_NAME_Uganda',\n",
    "       'COUNTRY_NAME_Vietnam', 'constant']]\n",
    "\n",
    "model_2 = sm.OLS(y, X).fit()\n",
    "predictions = model_2.predict(X) \n",
    "\n",
    "print_model_2 = model_2.summary()\n",
    "print(print_model_2)"
   ]
  },
  {
   "cell_type": "code",
   "execution_count": 126,
   "metadata": {},
   "outputs": [
    {
     "name": "stdout",
     "output_type": "stream",
     "text": [
      "                            OLS Regression Results                            \n",
      "==============================================================================\n",
      "Dep. Variable:        LOAN_AMOUNT_log   R-squared:                       0.056\n",
      "Model:                            OLS   Adj. R-squared:                  0.056\n",
      "Method:                 Least Squares   F-statistic:                     4879.\n",
      "Date:                Thu, 23 Dec 2021   Prob (F-statistic):               0.00\n",
      "Time:                        10:52:11   Log-Likelihood:            -1.3370e+06\n",
      "No. Observations:             1232239   AIC:                         2.674e+06\n",
      "Df Residuals:                 1232223   BIC:                         2.674e+06\n",
      "Df Model:                          15                                         \n",
      "Covariance Type:            nonrobust                                         \n",
      "==============================================================================================\n",
      "                                 coef    std err          t      P>|t|      [0.025      0.975]\n",
      "----------------------------------------------------------------------------------------------\n",
      "gender                         0.2495      0.002    150.526      0.000       0.246       0.253\n",
      "SECTOR_NAME_Agriculture        0.4651      0.004    113.873      0.000       0.457       0.473\n",
      "SECTOR_NAME_Arts               0.6175      0.006    101.371      0.000       0.606       0.629\n",
      "SECTOR_NAME_Clothing           0.6604      0.005    131.823      0.000       0.651       0.670\n",
      "SECTOR_NAME_Construction       0.7476      0.007    103.708      0.000       0.734       0.762\n",
      "SECTOR_NAME_Education          0.8479      0.005    165.276      0.000       0.838       0.858\n",
      "SECTOR_NAME_Entertainment      0.8119      0.019     43.818      0.000       0.776       0.848\n",
      "SECTOR_NAME_Food               0.4747      0.004    114.530      0.000       0.467       0.483\n",
      "SECTOR_NAME_Health             0.7734      0.007    110.176      0.000       0.760       0.787\n",
      "SECTOR_NAME_Housing            0.3651      0.005     77.320      0.000       0.356       0.374\n",
      "SECTOR_NAME_Manufacturing      0.6675      0.007     92.178      0.000       0.653       0.682\n",
      "SECTOR_NAME_Retail             0.4714      0.004    113.071      0.000       0.463       0.480\n",
      "SECTOR_NAME_Services           0.7008      0.005    151.315      0.000       0.692       0.710\n",
      "SECTOR_NAME_Transportation     0.4922      0.006     89.189      0.000       0.481       0.503\n",
      "SECTOR_NAME_Wholesale          0.8675      0.021     40.838      0.000       0.826       0.909\n",
      "constant                       5.4335      0.004   1382.756      0.000       5.426       5.441\n",
      "==============================================================================\n",
      "Omnibus:                      941.118   Durbin-Watson:                   1.986\n",
      "Prob(Omnibus):                  0.000   Jarque-Bera (JB):              826.812\n",
      "Skew:                          -0.008   Prob(JB):                    2.88e-180\n",
      "Kurtosis:                       2.874   Cond. No.                         37.2\n",
      "==============================================================================\n",
      "\n",
      "Warnings:\n",
      "[1] Standard Errors assume that the covariance matrix of the errors is correctly specified.\n"
     ]
    }
   ],
   "source": [
    "# NO INTERACTIONS + SECTOR FE\n",
    "y = data['LOAN_AMOUNT_log']\n",
    "X = data[['gender',\n",
    "       'SECTOR_NAME_Agriculture', 'SECTOR_NAME_Arts', 'SECTOR_NAME_Clothing',\n",
    "       'SECTOR_NAME_Construction', 'SECTOR_NAME_Education',\n",
    "       'SECTOR_NAME_Entertainment', 'SECTOR_NAME_Food', 'SECTOR_NAME_Health',\n",
    "       'SECTOR_NAME_Housing', 'SECTOR_NAME_Manufacturing',\n",
    "       'SECTOR_NAME_Retail',\n",
    "       'SECTOR_NAME_Services', 'SECTOR_NAME_Transportation',\n",
    "       'SECTOR_NAME_Wholesale',\n",
    "          'constant']]\n",
    "\n",
    "model_3 = sm.OLS(y, X).fit()\n",
    "predictions = model_3.predict(X) \n",
    "\n",
    "print_model_3 = model_3.summary()\n",
    "print(print_model_3)"
   ]
  },
  {
   "cell_type": "code",
   "execution_count": 127,
   "metadata": {},
   "outputs": [
    {
     "name": "stdout",
     "output_type": "stream",
     "text": [
      "                            OLS Regression Results                            \n",
      "==============================================================================\n",
      "Dep. Variable:        LOAN_AMOUNT_log   R-squared:                       0.381\n",
      "Model:                            OLS   Adj. R-squared:                  0.381\n",
      "Method:                 Least Squares   F-statistic:                 2.108e+04\n",
      "Date:                Thu, 23 Dec 2021   Prob (F-statistic):               0.00\n",
      "Time:                        10:52:14   Log-Likelihood:            -1.0769e+06\n",
      "No. Observations:             1232239   AIC:                         2.154e+06\n",
      "Df Residuals:                 1232202   BIC:                         2.154e+06\n",
      "Df Model:                          36                                         \n",
      "Covariance Type:            nonrobust                                         \n",
      "==============================================================================================\n",
      "                                 coef    std err          t      P>|t|      [0.025      0.975]\n",
      "----------------------------------------------------------------------------------------------\n",
      "gender                         0.1018      0.001     70.167      0.000       0.099       0.105\n",
      "SECTOR_NAME_Agriculture        0.5302      0.003    157.642      0.000       0.524       0.537\n",
      "SECTOR_NAME_Arts               0.5022      0.005     99.806      0.000       0.492       0.512\n",
      "SECTOR_NAME_Clothing           0.5948      0.004    143.747      0.000       0.587       0.603\n",
      "SECTOR_NAME_Construction       0.6143      0.006    104.491      0.000       0.603       0.626\n",
      "SECTOR_NAME_Education          0.5415      0.004    127.743      0.000       0.533       0.550\n",
      "SECTOR_NAME_Entertainment      0.6926      0.015     46.091      0.000       0.663       0.722\n",
      "SECTOR_NAME_Food               0.5439      0.003    158.336      0.000       0.537       0.551\n",
      "SECTOR_NAME_Health             0.4522      0.006     77.310      0.000       0.441       0.464\n",
      "SECTOR_NAME_Housing            0.3452      0.004     88.063      0.000       0.337       0.353\n",
      "SECTOR_NAME_Manufacturing      0.6398      0.006    107.972      0.000       0.628       0.651\n",
      "SECTOR_NAME_Retail             0.6135      0.003    176.750      0.000       0.607       0.620\n",
      "SECTOR_NAME_Services           0.5749      0.004    149.537      0.000       0.567       0.582\n",
      "SECTOR_NAME_Transportation     0.5569      0.005    122.436      0.000       0.548       0.566\n",
      "SECTOR_NAME_Wholesale          0.8207      0.017     47.661      0.000       0.787       0.854\n",
      "COUNTRY_NAME_Bolivia           1.1312      0.005    231.441      0.000       1.122       1.141\n",
      "COUNTRY_NAME_Cambodia          0.9327      0.003    286.155      0.000       0.926       0.939\n",
      "COUNTRY_NAME_Colombia          0.5064      0.003    174.077      0.000       0.501       0.512\n",
      "COUNTRY_NAME_Ecuador           1.1419      0.003    405.317      0.000       1.136       1.147\n",
      "COUNTRY_NAME_El Salvador       0.6211      0.002    260.918      0.000       0.616       0.626\n",
      "COUNTRY_NAME_Honduras          0.7399      0.005    161.400      0.000       0.731       0.749\n",
      "COUNTRY_NAME_India             0.1707      0.004     41.978      0.000       0.163       0.179\n",
      "COUNTRY_NAME_Kenya             0.1159      0.002     66.028      0.000       0.112       0.119\n",
      "COUNTRY_NAME_Lebanon           1.3791      0.004    333.682      0.000       1.371       1.387\n",
      "COUNTRY_NAME_Liberia          -0.0208      0.004     -4.715      0.000      -0.029      -0.012\n",
      "COUNTRY_NAME_Madagascar       -0.2794      0.005    -61.096      0.000      -0.288      -0.270\n",
      "COUNTRY_NAME_Nicaragua         0.6733      0.003    204.893      0.000       0.667       0.680\n",
      "COUNTRY_NAME_Nigeria          -0.4576      0.005    -98.383      0.000      -0.467      -0.448\n",
      "COUNTRY_NAME_Pakistan          0.3658      0.003    123.675      0.000       0.360       0.372\n",
      "COUNTRY_NAME_Palestine         1.7420      0.005    366.508      0.000       1.733       1.751\n",
      "COUNTRY_NAME_Peru              0.7342      0.003    290.455      0.000       0.729       0.739\n",
      "COUNTRY_NAME_Samoa             0.8441      0.004    191.245      0.000       0.835       0.853\n",
      "COUNTRY_NAME_Tajikistan        0.7842      0.003    273.971      0.000       0.779       0.790\n",
      "COUNTRY_NAME_Togo             -0.0371      0.004     -8.363      0.000      -0.046      -0.028\n",
      "COUNTRY_NAME_Uganda            0.3083      0.003    113.572      0.000       0.303       0.314\n",
      "COUNTRY_NAME_Vietnam           1.0744      0.004    260.710      0.000       1.066       1.082\n",
      "constant                       5.0760      0.003   1514.383      0.000       5.069       5.083\n",
      "==============================================================================\n",
      "Omnibus:                     3244.142   Durbin-Watson:                   1.992\n",
      "Prob(Omnibus):                  0.000   Jarque-Bera (JB):             3709.600\n",
      "Skew:                          -0.077   Prob(JB):                         0.00\n",
      "Kurtosis:                       3.220   Cond. No.                         37.9\n",
      "==============================================================================\n",
      "\n",
      "Warnings:\n",
      "[1] Standard Errors assume that the covariance matrix of the errors is correctly specified.\n"
     ]
    }
   ],
   "source": [
    "# NO INTERACTIONS + COUNTRY AND SECTOR FE\n",
    "y = data['LOAN_AMOUNT_log']\n",
    "X = data[['gender',\n",
    "       'SECTOR_NAME_Agriculture', 'SECTOR_NAME_Arts', 'SECTOR_NAME_Clothing',\n",
    "       'SECTOR_NAME_Construction', 'SECTOR_NAME_Education',\n",
    "       'SECTOR_NAME_Entertainment', 'SECTOR_NAME_Food', 'SECTOR_NAME_Health',\n",
    "       'SECTOR_NAME_Housing', 'SECTOR_NAME_Manufacturing',\n",
    "       'SECTOR_NAME_Retail',\n",
    "       'SECTOR_NAME_Services', 'SECTOR_NAME_Transportation',\n",
    "       'SECTOR_NAME_Wholesale',\n",
    "       'COUNTRY_NAME_Bolivia',\n",
    "       'COUNTRY_NAME_Cambodia', 'COUNTRY_NAME_Colombia',\n",
    "       'COUNTRY_NAME_Ecuador', 'COUNTRY_NAME_El Salvador',\n",
    "       'COUNTRY_NAME_Honduras', 'COUNTRY_NAME_India', 'COUNTRY_NAME_Kenya',\n",
    "       'COUNTRY_NAME_Lebanon', 'COUNTRY_NAME_Liberia',\n",
    "       'COUNTRY_NAME_Madagascar', 'COUNTRY_NAME_Nicaragua',\n",
    "       'COUNTRY_NAME_Nigeria', 'COUNTRY_NAME_Pakistan',\n",
    "       'COUNTRY_NAME_Palestine', 'COUNTRY_NAME_Peru', 'COUNTRY_NAME_Samoa',\n",
    "       'COUNTRY_NAME_Tajikistan', 'COUNTRY_NAME_Togo', 'COUNTRY_NAME_Uganda',\n",
    "       'COUNTRY_NAME_Vietnam', 'constant']]\n",
    "\n",
    "model_4 = sm.OLS(y, X).fit()\n",
    "predictions = model_4.predict(X) \n",
    "\n",
    "print_model_4 = model_4.summary()\n",
    "print(print_model_4)"
   ]
  },
  {
   "cell_type": "code",
   "execution_count": 128,
   "metadata": {},
   "outputs": [
    {
     "name": "stdout",
     "output_type": "stream",
     "text": [
      "                            OLS Regression Results                            \n",
      "==============================================================================\n",
      "Dep. Variable:        LOAN_AMOUNT_log   R-squared:                       0.739\n",
      "Model:                            OLS   Adj. R-squared:                  0.739\n",
      "Method:                 Least Squares   F-statistic:                 6.242e+04\n",
      "Date:                Thu, 23 Dec 2021   Prob (F-statistic):               0.00\n",
      "Time:                        10:52:18   Log-Likelihood:            -5.4414e+05\n",
      "No. Observations:             1232239   AIC:                         1.088e+06\n",
      "Df Residuals:                 1232182   BIC:                         1.089e+06\n",
      "Df Model:                          56                                         \n",
      "Covariance Type:            nonrobust                                         \n",
      "=====================================================================================================\n",
      "                                        coef    std err          t      P>|t|      [0.025      0.975]\n",
      "-----------------------------------------------------------------------------------------------------\n",
      "gender                                0.2428      0.004     54.755      0.000       0.234       0.251\n",
      "days_to_funding                       0.0098   7.89e-05    124.733      0.000       0.010       0.010\n",
      "days_to_funding_2                    -0.0001   1.68e-06    -86.864      0.000      -0.000      -0.000\n",
      "NUM_LENDERS_TOTAL                     0.0564   5.94e-05    949.404      0.000       0.056       0.057\n",
      "NUM_LENDERS_TOTAL_2                  -0.0003   7.55e-07   -402.678      0.000      -0.000      -0.000\n",
      "picture                               2.3459      0.001   1785.284      0.000       2.343       2.348\n",
      "pandemic                             -0.1058      0.001    -81.839      0.000      -0.108      -0.103\n",
      "pandemic_gender                       0.0554      0.003     18.369      0.000       0.050       0.061\n",
      "SECTOR_NAME_Agriculture               0.4141      0.003    156.199      0.000       0.409       0.419\n",
      "SECTOR_NAME_Arts                      0.4167      0.004    113.544      0.000       0.409       0.424\n",
      "SECTOR_NAME_Clothing                  0.4654      0.003    150.756      0.000       0.459       0.471\n",
      "SECTOR_NAME_Construction              0.4683      0.005     88.540      0.000       0.458       0.479\n",
      "SECTOR_NAME_Education                 0.4413      0.003    128.957      0.000       0.435       0.448\n",
      "SECTOR_NAME_Entertainment             0.4458      0.013     33.425      0.000       0.420       0.472\n",
      "SECTOR_NAME_Food                      0.4427      0.003    166.455      0.000       0.437       0.448\n",
      "SECTOR_NAME_Health                    0.4328      0.005     94.546      0.000       0.424       0.442\n",
      "SECTOR_NAME_Housing                   0.2072      0.003     69.278      0.000       0.201       0.213\n",
      "SECTOR_NAME_Manufacturing             0.4660      0.005     93.497      0.000       0.456       0.476\n",
      "SECTOR_NAME_Retail                    0.4741      0.003    176.754      0.000       0.469       0.479\n",
      "SECTOR_NAME_Services                  0.4390      0.003    147.433      0.000       0.433       0.445\n",
      "SECTOR_NAME_Transportation            0.4428      0.004    114.321      0.000       0.435       0.450\n",
      "SECTOR_NAME_Wholesale                 0.4878      0.014     34.088      0.000       0.460       0.516\n",
      "SECTOR_NAME_Agriculture_gender       -0.2659      0.005    -57.705      0.000      -0.275      -0.257\n",
      "SECTOR_NAME_Arts_gender              -0.2765      0.009    -29.766      0.000      -0.295      -0.258\n",
      "SECTOR_NAME_Clothing_gender          -0.2353      0.007    -32.422      0.000      -0.249      -0.221\n",
      "SECTOR_NAME_Construction_gender      -0.2724      0.008    -35.109      0.000      -0.288      -0.257\n",
      "SECTOR_NAME_Education_gender         -0.2398      0.006    -42.105      0.000      -0.251      -0.229\n",
      "SECTOR_NAME_Entertainment_gender     -0.2710      0.020    -13.843      0.000      -0.309      -0.233\n",
      "SECTOR_NAME_Food_gender              -0.2530      0.005    -50.795      0.000      -0.263      -0.243\n",
      "SECTOR_NAME_Health_gender            -0.2425      0.008    -30.598      0.000      -0.258      -0.227\n",
      "SECTOR_NAME_Housing_gender           -0.0592      0.006    -10.196      0.000      -0.071      -0.048\n",
      "SECTOR_NAME_Manufacturing_gender     -0.2372      0.008    -30.208      0.000      -0.253      -0.222\n",
      "SECTOR_NAME_Retail_gender            -0.2436      0.005    -48.119      0.000      -0.254      -0.234\n",
      "SECTOR_NAME_Services_gender          -0.2297      0.005    -42.215      0.000      -0.240      -0.219\n",
      "SECTOR_NAME_Transportation_gender    -0.2638      0.006    -43.522      0.000      -0.276      -0.252\n",
      "SECTOR_NAME_Wholesale_gender         -0.2752      0.023    -12.013      0.000      -0.320      -0.230\n",
      "COUNTRY_NAME_Bolivia                  0.1859      0.003     57.039      0.000       0.179       0.192\n",
      "COUNTRY_NAME_Cambodia                 0.2353      0.002    107.329      0.000       0.231       0.240\n",
      "COUNTRY_NAME_Colombia                 0.0983      0.002     51.050      0.000       0.095       0.102\n",
      "COUNTRY_NAME_Ecuador                  0.4635      0.002    242.526      0.000       0.460       0.467\n",
      "COUNTRY_NAME_El Salvador              0.1870      0.002    117.555      0.000       0.184       0.190\n",
      "COUNTRY_NAME_Honduras                 0.1956      0.003     65.049      0.000       0.190       0.202\n",
      "COUNTRY_NAME_India                    0.0573      0.003     21.654      0.000       0.052       0.063\n",
      "COUNTRY_NAME_Kenya                   -0.0390      0.001    -33.847      0.000      -0.041      -0.037\n",
      "COUNTRY_NAME_Lebanon                  0.2922      0.003    103.349      0.000       0.287       0.298\n",
      "COUNTRY_NAME_Liberia                 -0.0762      0.003    -26.567      0.000      -0.082      -0.071\n",
      "COUNTRY_NAME_Madagascar              -0.2507      0.003    -84.065      0.000      -0.257      -0.245\n",
      "COUNTRY_NAME_Nicaragua                0.1717      0.002     78.926      0.000       0.167       0.176\n",
      "COUNTRY_NAME_Nigeria                 -0.3859      0.003   -125.594      0.000      -0.392      -0.380\n",
      "COUNTRY_NAME_Pakistan                 0.0802      0.002     40.674      0.000       0.076       0.084\n",
      "COUNTRY_NAME_Palestine                0.2955      0.003     87.065      0.000       0.289       0.302\n",
      "COUNTRY_NAME_Peru                     0.2848      0.002    168.711      0.000       0.281       0.288\n",
      "COUNTRY_NAME_Samoa                    0.2131      0.003     73.195      0.000       0.207       0.219\n",
      "COUNTRY_NAME_Tajikistan               0.1704      0.002     88.585      0.000       0.167       0.174\n",
      "COUNTRY_NAME_Togo                    -0.1680      0.003    -58.207      0.000      -0.174      -0.162\n",
      "COUNTRY_NAME_Uganda                   0.0398      0.002     22.365      0.000       0.036       0.043\n",
      "COUNTRY_NAME_Vietnam                  0.3070      0.003    111.422      0.000       0.302       0.312\n",
      "constant                              2.3459      0.001   1785.284      0.000       2.343       2.348\n",
      "==============================================================================\n",
      "Omnibus:                   583913.391   Durbin-Watson:                   1.993\n",
      "Prob(Omnibus):                  0.000   Jarque-Bera (JB):         82480605.786\n",
      "Skew:                           1.255   Prob(JB):                         0.00\n",
      "Kurtosis:                      43.002   Cond. No.                     1.12e+16\n",
      "==============================================================================\n",
      "\n",
      "Warnings:\n",
      "[1] Standard Errors assume that the covariance matrix of the errors is correctly specified.\n",
      "[2] The smallest eigenvalue is 1.11e-20. This might indicate that there are\n",
      "strong multicollinearity problems or that the design matrix is singular.\n"
     ]
    }
   ],
   "source": [
    "# INTERACTIONS AND FE\n",
    "y = data['LOAN_AMOUNT_log']\n",
    "X = data[['gender', 'days_to_funding','days_to_funding_2','NUM_LENDERS_TOTAL','NUM_LENDERS_TOTAL_2',\n",
    "          'picture','pandemic', 'pandemic_gender',\n",
    "          'SECTOR_NAME_Agriculture', 'SECTOR_NAME_Arts', 'SECTOR_NAME_Clothing',\n",
    "       'SECTOR_NAME_Construction', 'SECTOR_NAME_Education',\n",
    "       'SECTOR_NAME_Entertainment', 'SECTOR_NAME_Food', 'SECTOR_NAME_Health',\n",
    "       'SECTOR_NAME_Housing', 'SECTOR_NAME_Manufacturing',\n",
    "       'SECTOR_NAME_Retail',\n",
    "       'SECTOR_NAME_Services', 'SECTOR_NAME_Transportation',\n",
    "       'SECTOR_NAME_Wholesale',\n",
    "       'SECTOR_NAME_Agriculture_gender',\n",
    "       'SECTOR_NAME_Arts_gender', 'SECTOR_NAME_Clothing_gender',\n",
    "       'SECTOR_NAME_Construction_gender', 'SECTOR_NAME_Education_gender',\n",
    "       'SECTOR_NAME_Entertainment_gender', 'SECTOR_NAME_Food_gender',\n",
    "       'SECTOR_NAME_Health_gender', 'SECTOR_NAME_Housing_gender',\n",
    "       'SECTOR_NAME_Manufacturing_gender',\n",
    "       'SECTOR_NAME_Retail_gender', 'SECTOR_NAME_Services_gender',\n",
    "       'SECTOR_NAME_Transportation_gender', 'SECTOR_NAME_Wholesale_gender',\n",
    "       'COUNTRY_NAME_Bolivia',\n",
    "       'COUNTRY_NAME_Cambodia', 'COUNTRY_NAME_Colombia',\n",
    "       'COUNTRY_NAME_Ecuador', 'COUNTRY_NAME_El Salvador',\n",
    "       'COUNTRY_NAME_Honduras', 'COUNTRY_NAME_India', 'COUNTRY_NAME_Kenya',\n",
    "       'COUNTRY_NAME_Lebanon', 'COUNTRY_NAME_Liberia',\n",
    "       'COUNTRY_NAME_Madagascar', 'COUNTRY_NAME_Nicaragua',\n",
    "       'COUNTRY_NAME_Nigeria', 'COUNTRY_NAME_Pakistan',\n",
    "       'COUNTRY_NAME_Palestine', 'COUNTRY_NAME_Peru', 'COUNTRY_NAME_Samoa',\n",
    "       'COUNTRY_NAME_Tajikistan', 'COUNTRY_NAME_Togo', 'COUNTRY_NAME_Uganda',\n",
    "       'COUNTRY_NAME_Vietnam', 'constant']]\n",
    "\n",
    "model_5 = sm.OLS(y, X).fit()\n",
    "predictions = model_5.predict(X) \n",
    "\n",
    "print_model_5 = model_5.summary()\n",
    "print(print_model_5)"
   ]
  },
  {
   "cell_type": "code",
   "execution_count": 129,
   "metadata": {},
   "outputs": [
    {
     "name": "stdout",
     "output_type": "stream",
     "text": [
      "                            OLS Regression Results                            \n",
      "==============================================================================\n",
      "Dep. Variable:        LOAN_AMOUNT_log   R-squared:                       0.695\n",
      "Model:                            OLS   Adj. R-squared:                  0.695\n",
      "Method:                 Least Squares   F-statistic:                 4.019e+05\n",
      "Date:                Thu, 23 Dec 2021   Prob (F-statistic):               0.00\n",
      "Time:                        10:52:19   Log-Likelihood:            -6.4015e+05\n",
      "No. Observations:             1232239   AIC:                         1.280e+06\n",
      "Df Residuals:                 1232231   BIC:                         1.280e+06\n",
      "Df Model:                           7                                         \n",
      "Covariance Type:            nonrobust                                         \n",
      "=======================================================================================\n",
      "                          coef    std err          t      P>|t|      [0.025      0.975]\n",
      "---------------------------------------------------------------------------------------\n",
      "gender                 -0.0103      0.001    -10.620      0.000      -0.012      -0.008\n",
      "days_to_funding         0.0084   8.37e-05     99.999      0.000       0.008       0.009\n",
      "days_to_funding_2      -0.0001    1.8e-06    -68.464      0.000      -0.000      -0.000\n",
      "NUM_LENDERS_TOTAL       0.0653   5.73e-05   1140.266      0.000       0.065       0.065\n",
      "NUM_LENDERS_TOTAL_2    -0.0004    7.8e-07   -465.988      0.000      -0.000      -0.000\n",
      "picture                 2.5461      0.000   6160.777      0.000       2.545       2.547\n",
      "pandemic               -0.1243      0.001    -89.944      0.000      -0.127      -0.122\n",
      "pandemic_gender         0.0465      0.003     14.325      0.000       0.040       0.053\n",
      "constant                2.5461      0.000   6160.777      0.000       2.545       2.547\n",
      "==============================================================================\n",
      "Omnibus:                   723104.305   Durbin-Watson:                   1.985\n",
      "Prob(Omnibus):                  0.000   Jarque-Bera (JB):        188714191.535\n",
      "Skew:                           1.679   Prob(JB):                         0.00\n",
      "Kurtosis:                      63.533   Cond. No.                     1.93e+19\n",
      "==============================================================================\n",
      "\n",
      "Warnings:\n",
      "[1] Standard Errors assume that the covariance matrix of the errors is correctly specified.\n",
      "[2] The smallest eigenvalue is 3.69e-27. This might indicate that there are\n",
      "strong multicollinearity problems or that the design matrix is singular.\n"
     ]
    }
   ],
   "source": [
    "# INTERACTIONS AND FE\n",
    "y = data['LOAN_AMOUNT_log']\n",
    "X = data[['gender', 'days_to_funding','days_to_funding_2','NUM_LENDERS_TOTAL','NUM_LENDERS_TOTAL_2',\n",
    "          'picture','pandemic', 'pandemic_gender','constant']]\n",
    "\n",
    "model_6 = sm.OLS(y, X).fit()\n",
    "predictions = model_6.predict(X) \n",
    "\n",
    "print_model_6 = model_6.summary()\n",
    "print(print_model_6)"
   ]
  },
  {
   "cell_type": "code",
   "execution_count": 130,
   "metadata": {},
   "outputs": [],
   "source": [
    "final_table = summary_col([model_1,model_2,model_3,model_4,model_5],stars=True)\n",
    "# print(final_table)"
   ]
  },
  {
   "cell_type": "code",
   "execution_count": 131,
   "metadata": {},
   "outputs": [
    {
     "data": {
      "text/html": [
       "<table class=\"simpletable\">\n",
       "<tr>\n",
       "                  <td></td>                  <th>LOAN_AMOUNT_log I</th> <th>LOAN_AMOUNT_log II</th> <th>LOAN_AMOUNT_log III</th> <th>LOAN_AMOUNT_log IIII</th> <th>LOAN_AMOUNT_log IIIII</th>\n",
       "</tr>\n",
       "<tr>\n",
       "  <th>COUNTRY_NAME_Bolivia</th>                      <td></td>               <td>1.1342***</td>              <td></td>                 <td>1.1312***</td>            <td>0.1859***</td>      \n",
       "</tr>\n",
       "<tr>\n",
       "  <th></th>                                          <td></td>               <td>(0.0049)</td>               <td></td>                 <td>(0.0049)</td>             <td>(0.0033)</td>       \n",
       "</tr>\n",
       "<tr>\n",
       "  <th>COUNTRY_NAME_Cambodia</th>                     <td></td>               <td>0.8456***</td>              <td></td>                 <td>0.9327***</td>            <td>0.2353***</td>      \n",
       "</tr>\n",
       "<tr>\n",
       "  <th></th>                                          <td></td>               <td>(0.0033)</td>               <td></td>                 <td>(0.0033)</td>             <td>(0.0022)</td>       \n",
       "</tr>\n",
       "<tr>\n",
       "  <th>COUNTRY_NAME_Colombia</th>                     <td></td>               <td>0.5371***</td>              <td></td>                 <td>0.5064***</td>            <td>0.0983***</td>      \n",
       "</tr>\n",
       "<tr>\n",
       "  <th></th>                                          <td></td>               <td>(0.0029)</td>               <td></td>                 <td>(0.0029)</td>             <td>(0.0019)</td>       \n",
       "</tr>\n",
       "<tr>\n",
       "  <th>COUNTRY_NAME_Ecuador</th>                      <td></td>               <td>1.1682***</td>              <td></td>                 <td>1.1419***</td>            <td>0.4635***</td>      \n",
       "</tr>\n",
       "<tr>\n",
       "  <th></th>                                          <td></td>               <td>(0.0028)</td>               <td></td>                 <td>(0.0028)</td>             <td>(0.0019)</td>       \n",
       "</tr>\n",
       "<tr>\n",
       "  <th>COUNTRY_NAME_El Salvador</th>                  <td></td>               <td>0.6216***</td>              <td></td>                 <td>0.6211***</td>            <td>0.1870***</td>      \n",
       "</tr>\n",
       "<tr>\n",
       "  <th></th>                                          <td></td>               <td>(0.0024)</td>               <td></td>                 <td>(0.0024)</td>             <td>(0.0016)</td>       \n",
       "</tr>\n",
       "<tr>\n",
       "  <th>COUNTRY_NAME_Honduras</th>                     <td></td>               <td>0.7288***</td>              <td></td>                 <td>0.7399***</td>            <td>0.1956***</td>      \n",
       "</tr>\n",
       "<tr>\n",
       "  <th></th>                                          <td></td>               <td>(0.0046)</td>               <td></td>                 <td>(0.0046)</td>             <td>(0.0030)</td>       \n",
       "</tr>\n",
       "<tr>\n",
       "  <th>COUNTRY_NAME_India</th>                        <td></td>               <td>0.1684***</td>              <td></td>                 <td>0.1707***</td>            <td>0.0573***</td>      \n",
       "</tr>\n",
       "<tr>\n",
       "  <th></th>                                          <td></td>               <td>(0.0041)</td>               <td></td>                 <td>(0.0041)</td>             <td>(0.0026)</td>       \n",
       "</tr>\n",
       "<tr>\n",
       "  <th>COUNTRY_NAME_Kenya</th>                        <td></td>               <td>0.1091***</td>              <td></td>                 <td>0.1159***</td>           <td>-0.0390***</td>      \n",
       "</tr>\n",
       "<tr>\n",
       "  <th></th>                                          <td></td>               <td>(0.0017)</td>               <td></td>                 <td>(0.0018)</td>             <td>(0.0012)</td>       \n",
       "</tr>\n",
       "<tr>\n",
       "  <th>COUNTRY_NAME_Lebanon</th>                      <td></td>               <td>1.3636***</td>              <td></td>                 <td>1.3791***</td>            <td>0.2922***</td>      \n",
       "</tr>\n",
       "<tr>\n",
       "  <th></th>                                          <td></td>               <td>(0.0041)</td>               <td></td>                 <td>(0.0041)</td>             <td>(0.0028)</td>       \n",
       "</tr>\n",
       "<tr>\n",
       "  <th>COUNTRY_NAME_Liberia</th>                      <td></td>               <td>0.0136***</td>              <td></td>                <td>-0.0208***</td>           <td>-0.0762***</td>      \n",
       "</tr>\n",
       "<tr>\n",
       "  <th></th>                                          <td></td>               <td>(0.0044)</td>               <td></td>                 <td>(0.0044)</td>             <td>(0.0029)</td>       \n",
       "</tr>\n",
       "<tr>\n",
       "  <th>COUNTRY_NAME_Madagascar</th>                   <td></td>              <td>-0.2854***</td>              <td></td>                <td>-0.2794***</td>           <td>-0.2507***</td>      \n",
       "</tr>\n",
       "<tr>\n",
       "  <th></th>                                          <td></td>               <td>(0.0046)</td>               <td></td>                 <td>(0.0046)</td>             <td>(0.0030)</td>       \n",
       "</tr>\n",
       "<tr>\n",
       "  <th>COUNTRY_NAME_Nicaragua</th>                    <td></td>               <td>0.6512***</td>              <td></td>                 <td>0.6733***</td>            <td>0.1717***</td>      \n",
       "</tr>\n",
       "<tr>\n",
       "  <th></th>                                          <td></td>               <td>(0.0033)</td>               <td></td>                 <td>(0.0033)</td>             <td>(0.0022)</td>       \n",
       "</tr>\n",
       "<tr>\n",
       "  <th>COUNTRY_NAME_Nigeria</th>                      <td></td>              <td>-0.5633***</td>              <td></td>                <td>-0.4576***</td>           <td>-0.3859***</td>      \n",
       "</tr>\n",
       "<tr>\n",
       "  <th></th>                                          <td></td>               <td>(0.0046)</td>               <td></td>                 <td>(0.0047)</td>             <td>(0.0031)</td>       \n",
       "</tr>\n",
       "<tr>\n",
       "  <th>COUNTRY_NAME_Pakistan</th>                     <td></td>               <td>0.3913***</td>              <td></td>                 <td>0.3658***</td>            <td>0.0802***</td>      \n",
       "</tr>\n",
       "<tr>\n",
       "  <th></th>                                          <td></td>               <td>(0.0029)</td>               <td></td>                 <td>(0.0030)</td>             <td>(0.0020)</td>       \n",
       "</tr>\n",
       "<tr>\n",
       "  <th>COUNTRY_NAME_Palestine</th>                    <td></td>               <td>1.6798***</td>              <td></td>                 <td>1.7420***</td>            <td>0.2955***</td>      \n",
       "</tr>\n",
       "<tr>\n",
       "  <th></th>                                          <td></td>               <td>(0.0048)</td>               <td></td>                 <td>(0.0048)</td>             <td>(0.0034)</td>       \n",
       "</tr>\n",
       "<tr>\n",
       "  <th>COUNTRY_NAME_Peru</th>                         <td></td>               <td>0.7330***</td>              <td></td>                 <td>0.7342***</td>            <td>0.2848***</td>      \n",
       "</tr>\n",
       "<tr>\n",
       "  <th></th>                                          <td></td>               <td>(0.0025)</td>               <td></td>                 <td>(0.0025)</td>             <td>(0.0017)</td>       \n",
       "</tr>\n",
       "<tr>\n",
       "  <th>COUNTRY_NAME_Samoa</th>                        <td></td>               <td>0.8466***</td>              <td></td>                 <td>0.8441***</td>            <td>0.2131***</td>      \n",
       "</tr>\n",
       "<tr>\n",
       "  <th></th>                                          <td></td>               <td>(0.0045)</td>               <td></td>                 <td>(0.0044)</td>             <td>(0.0029)</td>       \n",
       "</tr>\n",
       "<tr>\n",
       "  <th>COUNTRY_NAME_Tajikistan</th>                   <td></td>               <td>0.7616***</td>              <td></td>                 <td>0.7842***</td>            <td>0.1704***</td>      \n",
       "</tr>\n",
       "<tr>\n",
       "  <th></th>                                          <td></td>               <td>(0.0027)</td>               <td></td>                 <td>(0.0029)</td>             <td>(0.0019)</td>       \n",
       "</tr>\n",
       "<tr>\n",
       "  <th>COUNTRY_NAME_Togo</th>                         <td></td>                <td>0.0040</td>                <td></td>                <td>-0.0371***</td>           <td>-0.1680***</td>      \n",
       "</tr>\n",
       "<tr>\n",
       "  <th></th>                                          <td></td>               <td>(0.0045)</td>               <td></td>                 <td>(0.0044)</td>             <td>(0.0029)</td>       \n",
       "</tr>\n",
       "<tr>\n",
       "  <th>COUNTRY_NAME_Uganda</th>                       <td></td>               <td>0.3208***</td>              <td></td>                 <td>0.3083***</td>            <td>0.0398***</td>      \n",
       "</tr>\n",
       "<tr>\n",
       "  <th></th>                                          <td></td>               <td>(0.0027)</td>               <td></td>                 <td>(0.0027)</td>             <td>(0.0018)</td>       \n",
       "</tr>\n",
       "<tr>\n",
       "  <th>COUNTRY_NAME_Vietnam</th>                      <td></td>               <td>1.0020***</td>              <td></td>                 <td>1.0744***</td>            <td>0.3070***</td>      \n",
       "</tr>\n",
       "<tr>\n",
       "  <th></th>                                          <td></td>               <td>(0.0041)</td>               <td></td>                 <td>(0.0041)</td>             <td>(0.0028)</td>       \n",
       "</tr>\n",
       "<tr>\n",
       "  <th>NUM_LENDERS_TOTAL</th>                         <td></td>                   <td></td>                   <td></td>                     <td></td>                 <td>0.0564***</td>      \n",
       "</tr>\n",
       "<tr>\n",
       "  <th></th>                                          <td></td>                   <td></td>                   <td></td>                     <td></td>                 <td>(0.0001)</td>       \n",
       "</tr>\n",
       "<tr>\n",
       "  <th>NUM_LENDERS_TOTAL_2</th>                       <td></td>                   <td></td>                   <td></td>                     <td></td>                <td>-0.0003***</td>      \n",
       "</tr>\n",
       "<tr>\n",
       "  <th></th>                                          <td></td>                   <td></td>                   <td></td>                     <td></td>                 <td>(0.0000)</td>       \n",
       "</tr>\n",
       "<tr>\n",
       "  <th>SECTOR_NAME_Agriculture</th>                   <td></td>                   <td></td>               <td>0.4651***</td>            <td>0.5302***</td>            <td>0.4141***</td>      \n",
       "</tr>\n",
       "<tr>\n",
       "  <th></th>                                          <td></td>                   <td></td>               <td>(0.0041)</td>             <td>(0.0034)</td>             <td>(0.0027)</td>       \n",
       "</tr>\n",
       "<tr>\n",
       "  <th>SECTOR_NAME_Agriculture_gender</th>            <td></td>                   <td></td>                   <td></td>                     <td></td>                <td>-0.2659***</td>      \n",
       "</tr>\n",
       "<tr>\n",
       "  <th></th>                                          <td></td>                   <td></td>                   <td></td>                     <td></td>                 <td>(0.0046)</td>       \n",
       "</tr>\n",
       "<tr>\n",
       "  <th>SECTOR_NAME_Arts</th>                          <td></td>                   <td></td>               <td>0.6175***</td>            <td>0.5022***</td>            <td>0.4167***</td>      \n",
       "</tr>\n",
       "<tr>\n",
       "  <th></th>                                          <td></td>                   <td></td>               <td>(0.0061)</td>             <td>(0.0050)</td>             <td>(0.0037)</td>       \n",
       "</tr>\n",
       "<tr>\n",
       "  <th>SECTOR_NAME_Arts_gender</th>                   <td></td>                   <td></td>                   <td></td>                     <td></td>                <td>-0.2765***</td>      \n",
       "</tr>\n",
       "<tr>\n",
       "  <th></th>                                          <td></td>                   <td></td>                   <td></td>                     <td></td>                 <td>(0.0093)</td>       \n",
       "</tr>\n",
       "<tr>\n",
       "  <th>SECTOR_NAME_Clothing</th>                      <td></td>                   <td></td>               <td>0.6604***</td>            <td>0.5948***</td>            <td>0.4654***</td>      \n",
       "</tr>\n",
       "<tr>\n",
       "  <th></th>                                          <td></td>                   <td></td>               <td>(0.0050)</td>             <td>(0.0041)</td>             <td>(0.0031)</td>       \n",
       "</tr>\n",
       "<tr>\n",
       "  <th>SECTOR_NAME_Clothing_gender</th>               <td></td>                   <td></td>                   <td></td>                     <td></td>                <td>-0.2353***</td>      \n",
       "</tr>\n",
       "<tr>\n",
       "  <th></th>                                          <td></td>                   <td></td>                   <td></td>                     <td></td>                 <td>(0.0073)</td>       \n",
       "</tr>\n",
       "<tr>\n",
       "  <th>SECTOR_NAME_Construction</th>                  <td></td>                   <td></td>               <td>0.7476***</td>            <td>0.6143***</td>            <td>0.4683***</td>      \n",
       "</tr>\n",
       "<tr>\n",
       "  <th></th>                                          <td></td>                   <td></td>               <td>(0.0072)</td>             <td>(0.0059)</td>             <td>(0.0053)</td>       \n",
       "</tr>\n",
       "<tr>\n",
       "  <th>SECTOR_NAME_Construction_gender</th>           <td></td>                   <td></td>                   <td></td>                     <td></td>                <td>-0.2724***</td>      \n",
       "</tr>\n",
       "<tr>\n",
       "  <th></th>                                          <td></td>                   <td></td>                   <td></td>                     <td></td>                 <td>(0.0078)</td>       \n",
       "</tr>\n",
       "<tr>\n",
       "  <th>SECTOR_NAME_Education</th>                     <td></td>                   <td></td>               <td>0.8479***</td>            <td>0.5415***</td>            <td>0.4413***</td>      \n",
       "</tr>\n",
       "<tr>\n",
       "  <th></th>                                          <td></td>                   <td></td>               <td>(0.0051)</td>             <td>(0.0042)</td>             <td>(0.0034)</td>       \n",
       "</tr>\n",
       "<tr>\n",
       "  <th>SECTOR_NAME_Education_gender</th>              <td></td>                   <td></td>                   <td></td>                     <td></td>                <td>-0.2398***</td>      \n",
       "</tr>\n",
       "<tr>\n",
       "  <th></th>                                          <td></td>                   <td></td>                   <td></td>                     <td></td>                 <td>(0.0057)</td>       \n",
       "</tr>\n",
       "<tr>\n",
       "  <th>SECTOR_NAME_Entertainment</th>                 <td></td>                   <td></td>               <td>0.8119***</td>            <td>0.6926***</td>            <td>0.4458***</td>      \n",
       "</tr>\n",
       "<tr>\n",
       "  <th></th>                                          <td></td>                   <td></td>               <td>(0.0185)</td>             <td>(0.0150)</td>             <td>(0.0133)</td>       \n",
       "</tr>\n",
       "<tr>\n",
       "  <th>SECTOR_NAME_Entertainment_gender</th>          <td></td>                   <td></td>                   <td></td>                     <td></td>                <td>-0.2710***</td>      \n",
       "</tr>\n",
       "<tr>\n",
       "  <th></th>                                          <td></td>                   <td></td>                   <td></td>                     <td></td>                 <td>(0.0196)</td>       \n",
       "</tr>\n",
       "<tr>\n",
       "  <th>SECTOR_NAME_Food</th>                          <td></td>                   <td></td>               <td>0.4747***</td>            <td>0.5439***</td>            <td>0.4427***</td>      \n",
       "</tr>\n",
       "<tr>\n",
       "  <th></th>                                          <td></td>                   <td></td>               <td>(0.0041)</td>             <td>(0.0034)</td>             <td>(0.0027)</td>       \n",
       "</tr>\n",
       "<tr>\n",
       "  <th>SECTOR_NAME_Food_gender</th>                   <td></td>                   <td></td>                   <td></td>                     <td></td>                <td>-0.2530***</td>      \n",
       "</tr>\n",
       "<tr>\n",
       "  <th></th>                                          <td></td>                   <td></td>                   <td></td>                     <td></td>                 <td>(0.0050)</td>       \n",
       "</tr>\n",
       "<tr>\n",
       "  <th>SECTOR_NAME_Health</th>                        <td></td>                   <td></td>               <td>0.7734***</td>            <td>0.4522***</td>            <td>0.4328***</td>      \n",
       "</tr>\n",
       "<tr>\n",
       "  <th></th>                                          <td></td>                   <td></td>               <td>(0.0070)</td>             <td>(0.0058)</td>             <td>(0.0046)</td>       \n",
       "</tr>\n",
       "<tr>\n",
       "  <th>SECTOR_NAME_Health_gender</th>                 <td></td>                   <td></td>                   <td></td>                     <td></td>                <td>-0.2425***</td>      \n",
       "</tr>\n",
       "<tr>\n",
       "  <th></th>                                          <td></td>                   <td></td>                   <td></td>                     <td></td>                 <td>(0.0079)</td>       \n",
       "</tr>\n",
       "<tr>\n",
       "  <th>SECTOR_NAME_Housing</th>                       <td></td>                   <td></td>               <td>0.3651***</td>            <td>0.3452***</td>            <td>0.2072***</td>      \n",
       "</tr>\n",
       "<tr>\n",
       "  <th></th>                                          <td></td>                   <td></td>               <td>(0.0047)</td>             <td>(0.0039)</td>             <td>(0.0030)</td>       \n",
       "</tr>\n",
       "<tr>\n",
       "  <th>SECTOR_NAME_Housing_gender</th>                <td></td>                   <td></td>                   <td></td>                     <td></td>                <td>-0.0592***</td>      \n",
       "</tr>\n",
       "<tr>\n",
       "  <th></th>                                          <td></td>                   <td></td>                   <td></td>                     <td></td>                 <td>(0.0058)</td>       \n",
       "</tr>\n",
       "<tr>\n",
       "  <th>SECTOR_NAME_Manufacturing</th>                 <td></td>                   <td></td>               <td>0.6675***</td>            <td>0.6398***</td>            <td>0.4660***</td>      \n",
       "</tr>\n",
       "<tr>\n",
       "  <th></th>                                          <td></td>                   <td></td>               <td>(0.0072)</td>             <td>(0.0059)</td>             <td>(0.0050)</td>       \n",
       "</tr>\n",
       "<tr>\n",
       "  <th>SECTOR_NAME_Manufacturing_gender</th>          <td></td>                   <td></td>                   <td></td>                     <td></td>                <td>-0.2372***</td>      \n",
       "</tr>\n",
       "<tr>\n",
       "  <th></th>                                          <td></td>                   <td></td>                   <td></td>                     <td></td>                 <td>(0.0079)</td>       \n",
       "</tr>\n",
       "<tr>\n",
       "  <th>SECTOR_NAME_Retail</th>                        <td></td>                   <td></td>               <td>0.4714***</td>            <td>0.6135***</td>            <td>0.4741***</td>      \n",
       "</tr>\n",
       "<tr>\n",
       "  <th></th>                                          <td></td>                   <td></td>               <td>(0.0042)</td>             <td>(0.0035)</td>             <td>(0.0027)</td>       \n",
       "</tr>\n",
       "<tr>\n",
       "  <th>SECTOR_NAME_Retail_gender</th>                 <td></td>                   <td></td>                   <td></td>                     <td></td>                <td>-0.2436***</td>      \n",
       "</tr>\n",
       "<tr>\n",
       "  <th></th>                                          <td></td>                   <td></td>                   <td></td>                     <td></td>                 <td>(0.0051)</td>       \n",
       "</tr>\n",
       "<tr>\n",
       "  <th>SECTOR_NAME_Services</th>                      <td></td>                   <td></td>               <td>0.7008***</td>            <td>0.5749***</td>            <td>0.4390***</td>      \n",
       "</tr>\n",
       "<tr>\n",
       "  <th></th>                                          <td></td>                   <td></td>               <td>(0.0046)</td>             <td>(0.0038)</td>             <td>(0.0030)</td>       \n",
       "</tr>\n",
       "<tr>\n",
       "  <th>SECTOR_NAME_Services_gender</th>               <td></td>                   <td></td>                   <td></td>                     <td></td>                <td>-0.2297***</td>      \n",
       "</tr>\n",
       "<tr>\n",
       "  <th></th>                                          <td></td>                   <td></td>                   <td></td>                     <td></td>                 <td>(0.0054)</td>       \n",
       "</tr>\n",
       "<tr>\n",
       "  <th>SECTOR_NAME_Transportation</th>                <td></td>                   <td></td>               <td>0.4922***</td>            <td>0.5569***</td>            <td>0.4428***</td>      \n",
       "</tr>\n",
       "<tr>\n",
       "  <th></th>                                          <td></td>                   <td></td>               <td>(0.0055)</td>             <td>(0.0045)</td>             <td>(0.0039)</td>       \n",
       "</tr>\n",
       "<tr>\n",
       "  <th>SECTOR_NAME_Transportation_gender</th>         <td></td>                   <td></td>                   <td></td>                     <td></td>                <td>-0.2638***</td>      \n",
       "</tr>\n",
       "<tr>\n",
       "  <th></th>                                          <td></td>                   <td></td>                   <td></td>                     <td></td>                 <td>(0.0061)</td>       \n",
       "</tr>\n",
       "<tr>\n",
       "  <th>SECTOR_NAME_Wholesale</th>                     <td></td>                   <td></td>               <td>0.8675***</td>            <td>0.8207***</td>            <td>0.4878***</td>      \n",
       "</tr>\n",
       "<tr>\n",
       "  <th></th>                                          <td></td>                   <td></td>               <td>(0.0212)</td>             <td>(0.0172)</td>             <td>(0.0143)</td>       \n",
       "</tr>\n",
       "<tr>\n",
       "  <th>SECTOR_NAME_Wholesale_gender</th>              <td></td>                   <td></td>                   <td></td>                     <td></td>                <td>-0.2752***</td>      \n",
       "</tr>\n",
       "<tr>\n",
       "  <th></th>                                          <td></td>                   <td></td>                   <td></td>                     <td></td>                 <td>(0.0229)</td>       \n",
       "</tr>\n",
       "<tr>\n",
       "  <th>constant</th>                              <td>5.9327***</td>          <td>5.6144***</td>          <td>5.4335***</td>            <td>5.0760***</td>            <td>2.3459***</td>      \n",
       "</tr>\n",
       "<tr>\n",
       "  <th></th>                                      <td>(0.0007)</td>           <td>(0.0009)</td>           <td>(0.0039)</td>             <td>(0.0034)</td>             <td>(0.0013)</td>       \n",
       "</tr>\n",
       "<tr>\n",
       "  <th>days_to_funding</th>                           <td></td>                   <td></td>                   <td></td>                     <td></td>                 <td>0.0098***</td>      \n",
       "</tr>\n",
       "<tr>\n",
       "  <th></th>                                          <td></td>                   <td></td>                   <td></td>                     <td></td>                 <td>(0.0001)</td>       \n",
       "</tr>\n",
       "<tr>\n",
       "  <th>days_to_funding_2</th>                         <td></td>                   <td></td>                   <td></td>                     <td></td>                <td>-0.0001***</td>      \n",
       "</tr>\n",
       "<tr>\n",
       "  <th></th>                                          <td></td>                   <td></td>                   <td></td>                     <td></td>                 <td>(0.0000)</td>       \n",
       "</tr>\n",
       "<tr>\n",
       "  <th>gender</th>                                <td>0.2612***</td>          <td>0.0931***</td>          <td>0.2495***</td>            <td>0.1018***</td>            <td>0.2428***</td>      \n",
       "</tr>\n",
       "<tr>\n",
       "  <th></th>                                      <td>(0.0016)</td>           <td>(0.0014)</td>           <td>(0.0017)</td>             <td>(0.0015)</td>             <td>(0.0044)</td>       \n",
       "</tr>\n",
       "<tr>\n",
       "  <th>pandemic</th>                                  <td></td>                   <td></td>                   <td></td>                     <td></td>                <td>-0.1058***</td>      \n",
       "</tr>\n",
       "<tr>\n",
       "  <th></th>                                          <td></td>                   <td></td>                   <td></td>                     <td></td>                 <td>(0.0013)</td>       \n",
       "</tr>\n",
       "<tr>\n",
       "  <th>pandemic_gender</th>                           <td></td>                   <td></td>                   <td></td>                     <td></td>                 <td>0.0554***</td>      \n",
       "</tr>\n",
       "<tr>\n",
       "  <th></th>                                          <td></td>                   <td></td>                   <td></td>                     <td></td>                 <td>(0.0030)</td>       \n",
       "</tr>\n",
       "<tr>\n",
       "  <th>picture</th>                                   <td></td>                   <td></td>                   <td></td>                     <td></td>                 <td>2.3459***</td>      \n",
       "</tr>\n",
       "<tr>\n",
       "  <th></th>                                          <td></td>                   <td></td>                   <td></td>                     <td></td>                 <td>(0.0013)</td>       \n",
       "</tr>\n",
       "</table>"
      ],
      "text/plain": [
       "<class 'statsmodels.iolib.summary2.Summary'>\n",
       "\"\"\"\n",
       "\n",
       "=====================================================================================================================================\n",
       "                                  LOAN_AMOUNT_log I LOAN_AMOUNT_log II LOAN_AMOUNT_log III LOAN_AMOUNT_log IIII LOAN_AMOUNT_log IIIII\n",
       "-------------------------------------------------------------------------------------------------------------------------------------\n",
       "COUNTRY_NAME_Bolivia                                1.1342***                              1.1312***            0.1859***            \n",
       "                                                    (0.0049)                               (0.0049)             (0.0033)             \n",
       "COUNTRY_NAME_Cambodia                               0.8456***                              0.9327***            0.2353***            \n",
       "                                                    (0.0033)                               (0.0033)             (0.0022)             \n",
       "COUNTRY_NAME_Colombia                               0.5371***                              0.5064***            0.0983***            \n",
       "                                                    (0.0029)                               (0.0029)             (0.0019)             \n",
       "COUNTRY_NAME_Ecuador                                1.1682***                              1.1419***            0.4635***            \n",
       "                                                    (0.0028)                               (0.0028)             (0.0019)             \n",
       "COUNTRY_NAME_El Salvador                            0.6216***                              0.6211***            0.1870***            \n",
       "                                                    (0.0024)                               (0.0024)             (0.0016)             \n",
       "COUNTRY_NAME_Honduras                               0.7288***                              0.7399***            0.1956***            \n",
       "                                                    (0.0046)                               (0.0046)             (0.0030)             \n",
       "COUNTRY_NAME_India                                  0.1684***                              0.1707***            0.0573***            \n",
       "                                                    (0.0041)                               (0.0041)             (0.0026)             \n",
       "COUNTRY_NAME_Kenya                                  0.1091***                              0.1159***            -0.0390***           \n",
       "                                                    (0.0017)                               (0.0018)             (0.0012)             \n",
       "COUNTRY_NAME_Lebanon                                1.3636***                              1.3791***            0.2922***            \n",
       "                                                    (0.0041)                               (0.0041)             (0.0028)             \n",
       "COUNTRY_NAME_Liberia                                0.0136***                              -0.0208***           -0.0762***           \n",
       "                                                    (0.0044)                               (0.0044)             (0.0029)             \n",
       "COUNTRY_NAME_Madagascar                             -0.2854***                             -0.2794***           -0.2507***           \n",
       "                                                    (0.0046)                               (0.0046)             (0.0030)             \n",
       "COUNTRY_NAME_Nicaragua                              0.6512***                              0.6733***            0.1717***            \n",
       "                                                    (0.0033)                               (0.0033)             (0.0022)             \n",
       "COUNTRY_NAME_Nigeria                                -0.5633***                             -0.4576***           -0.3859***           \n",
       "                                                    (0.0046)                               (0.0047)             (0.0031)             \n",
       "COUNTRY_NAME_Pakistan                               0.3913***                              0.3658***            0.0802***            \n",
       "                                                    (0.0029)                               (0.0030)             (0.0020)             \n",
       "COUNTRY_NAME_Palestine                              1.6798***                              1.7420***            0.2955***            \n",
       "                                                    (0.0048)                               (0.0048)             (0.0034)             \n",
       "COUNTRY_NAME_Peru                                   0.7330***                              0.7342***            0.2848***            \n",
       "                                                    (0.0025)                               (0.0025)             (0.0017)             \n",
       "COUNTRY_NAME_Samoa                                  0.8466***                              0.8441***            0.2131***            \n",
       "                                                    (0.0045)                               (0.0044)             (0.0029)             \n",
       "COUNTRY_NAME_Tajikistan                             0.7616***                              0.7842***            0.1704***            \n",
       "                                                    (0.0027)                               (0.0029)             (0.0019)             \n",
       "COUNTRY_NAME_Togo                                   0.0040                                 -0.0371***           -0.1680***           \n",
       "                                                    (0.0045)                               (0.0044)             (0.0029)             \n",
       "COUNTRY_NAME_Uganda                                 0.3208***                              0.3083***            0.0398***            \n",
       "                                                    (0.0027)                               (0.0027)             (0.0018)             \n",
       "COUNTRY_NAME_Vietnam                                1.0020***                              1.0744***            0.3070***            \n",
       "                                                    (0.0041)                               (0.0041)             (0.0028)             \n",
       "NUM_LENDERS_TOTAL                                                                                               0.0564***            \n",
       "                                                                                                                (0.0001)             \n",
       "NUM_LENDERS_TOTAL_2                                                                                             -0.0003***           \n",
       "                                                                                                                (0.0000)             \n",
       "SECTOR_NAME_Agriculture                                                0.4651***           0.5302***            0.4141***            \n",
       "                                                                       (0.0041)            (0.0034)             (0.0027)             \n",
       "SECTOR_NAME_Agriculture_gender                                                                                  -0.2659***           \n",
       "                                                                                                                (0.0046)             \n",
       "SECTOR_NAME_Arts                                                       0.6175***           0.5022***            0.4167***            \n",
       "                                                                       (0.0061)            (0.0050)             (0.0037)             \n",
       "SECTOR_NAME_Arts_gender                                                                                         -0.2765***           \n",
       "                                                                                                                (0.0093)             \n",
       "SECTOR_NAME_Clothing                                                   0.6604***           0.5948***            0.4654***            \n",
       "                                                                       (0.0050)            (0.0041)             (0.0031)             \n",
       "SECTOR_NAME_Clothing_gender                                                                                     -0.2353***           \n",
       "                                                                                                                (0.0073)             \n",
       "SECTOR_NAME_Construction                                               0.7476***           0.6143***            0.4683***            \n",
       "                                                                       (0.0072)            (0.0059)             (0.0053)             \n",
       "SECTOR_NAME_Construction_gender                                                                                 -0.2724***           \n",
       "                                                                                                                (0.0078)             \n",
       "SECTOR_NAME_Education                                                  0.8479***           0.5415***            0.4413***            \n",
       "                                                                       (0.0051)            (0.0042)             (0.0034)             \n",
       "SECTOR_NAME_Education_gender                                                                                    -0.2398***           \n",
       "                                                                                                                (0.0057)             \n",
       "SECTOR_NAME_Entertainment                                              0.8119***           0.6926***            0.4458***            \n",
       "                                                                       (0.0185)            (0.0150)             (0.0133)             \n",
       "SECTOR_NAME_Entertainment_gender                                                                                -0.2710***           \n",
       "                                                                                                                (0.0196)             \n",
       "SECTOR_NAME_Food                                                       0.4747***           0.5439***            0.4427***            \n",
       "                                                                       (0.0041)            (0.0034)             (0.0027)             \n",
       "SECTOR_NAME_Food_gender                                                                                         -0.2530***           \n",
       "                                                                                                                (0.0050)             \n",
       "SECTOR_NAME_Health                                                     0.7734***           0.4522***            0.4328***            \n",
       "                                                                       (0.0070)            (0.0058)             (0.0046)             \n",
       "SECTOR_NAME_Health_gender                                                                                       -0.2425***           \n",
       "                                                                                                                (0.0079)             \n",
       "SECTOR_NAME_Housing                                                    0.3651***           0.3452***            0.2072***            \n",
       "                                                                       (0.0047)            (0.0039)             (0.0030)             \n",
       "SECTOR_NAME_Housing_gender                                                                                      -0.0592***           \n",
       "                                                                                                                (0.0058)             \n",
       "SECTOR_NAME_Manufacturing                                              0.6675***           0.6398***            0.4660***            \n",
       "                                                                       (0.0072)            (0.0059)             (0.0050)             \n",
       "SECTOR_NAME_Manufacturing_gender                                                                                -0.2372***           \n",
       "                                                                                                                (0.0079)             \n",
       "SECTOR_NAME_Retail                                                     0.4714***           0.6135***            0.4741***            \n",
       "                                                                       (0.0042)            (0.0035)             (0.0027)             \n",
       "SECTOR_NAME_Retail_gender                                                                                       -0.2436***           \n",
       "                                                                                                                (0.0051)             \n",
       "SECTOR_NAME_Services                                                   0.7008***           0.5749***            0.4390***            \n",
       "                                                                       (0.0046)            (0.0038)             (0.0030)             \n",
       "SECTOR_NAME_Services_gender                                                                                     -0.2297***           \n",
       "                                                                                                                (0.0054)             \n",
       "SECTOR_NAME_Transportation                                             0.4922***           0.5569***            0.4428***            \n",
       "                                                                       (0.0055)            (0.0045)             (0.0039)             \n",
       "SECTOR_NAME_Transportation_gender                                                                               -0.2638***           \n",
       "                                                                                                                (0.0061)             \n",
       "SECTOR_NAME_Wholesale                                                  0.8675***           0.8207***            0.4878***            \n",
       "                                                                       (0.0212)            (0.0172)             (0.0143)             \n",
       "SECTOR_NAME_Wholesale_gender                                                                                    -0.2752***           \n",
       "                                                                                                                (0.0229)             \n",
       "constant                          5.9327***         5.6144***          5.4335***           5.0760***            2.3459***            \n",
       "                                  (0.0007)          (0.0009)           (0.0039)            (0.0034)             (0.0013)             \n",
       "days_to_funding                                                                                                 0.0098***            \n",
       "                                                                                                                (0.0001)             \n",
       "days_to_funding_2                                                                                               -0.0001***           \n",
       "                                                                                                                (0.0000)             \n",
       "gender                            0.2612***         0.0931***          0.2495***           0.1018***            0.2428***            \n",
       "                                  (0.0016)          (0.0014)           (0.0017)            (0.0015)             (0.0044)             \n",
       "pandemic                                                                                                        -0.1058***           \n",
       "                                                                                                                (0.0013)             \n",
       "pandemic_gender                                                                                                 0.0554***            \n",
       "                                                                                                                (0.0030)             \n",
       "picture                                                                                                         2.3459***            \n",
       "                                                                                                                (0.0013)             \n",
       "=====================================================================================================================================\n",
       "Standard errors in parentheses.\n",
       "* p<.1, ** p<.05, ***p<.01\n",
       "\"\"\""
      ]
     },
     "execution_count": 131,
     "metadata": {},
     "output_type": "execute_result"
    }
   ],
   "source": [
    "final_table"
   ]
  },
  {
   "cell_type": "code",
   "execution_count": 132,
   "metadata": {},
   "outputs": [],
   "source": [
    "# print(final_table.as_latex())"
   ]
  },
  {
   "cell_type": "markdown",
   "metadata": {},
   "source": [
    "### Gauss Markov Assumptions"
   ]
  },
  {
   "cell_type": "code",
   "execution_count": 60,
   "metadata": {},
   "outputs": [],
   "source": [
    "y_hat = model_5.fittedvalues.copy()\n",
    "y = data['LOAN_AMOUNT_log'].values.copy()\n",
    "residuals = y - y_hat"
   ]
  },
  {
   "cell_type": "markdown",
   "metadata": {},
   "source": [
    "### 1. Linearity"
   ]
  },
  {
   "cell_type": "code",
   "execution_count": 68,
   "metadata": {},
   "outputs": [
    {
     "data": {
      "image/png": "[encoded data removed]",
      "text/plain": [
       "<Figure size 432x288 with 1 Axes>"
      ]
     },
     "metadata": {
      "needs_background": "light"
     },
     "output_type": "display_data"
    }
   ],
   "source": [
    "plt.figure()\n",
    "plt.scatter(y, y_hat)\n",
    "plt.xlabel(\"Actual\")\n",
    "plt.ylabel(\"Predicted\");"
   ]
  },
  {
   "cell_type": "markdown",
   "metadata": {},
   "source": [
    "### 2. Normality of the errors"
   ]
  },
  {
   "cell_type": "code",
   "execution_count": 76,
   "metadata": {},
   "outputs": [
    {
     "data": {
      "image/png": "[encoded data removed]",
      "text/plain": [
       "<Figure size 432x288 with 1 Axes>"
      ]
     },
     "metadata": {
      "needs_background": "light"
     },
     "output_type": "display_data"
    }
   ],
   "source": [
    "plt.hist(residuals, density=True, bins=9);"
   ]
  },
  {
   "cell_type": "code",
   "execution_count": 62,
   "metadata": {},
   "outputs": [
    {
     "data": {
      "image/png": "[encoded data removed]",
      "text/plain": [
       "<Figure size 360x216 with 1 Axes>"
      ]
     },
     "metadata": {
      "needs_background": "light"
     },
     "output_type": "display_data"
    }
   ],
   "source": [
    "import scipy as sp\n",
    "fig, ax = plt.subplots(figsize=(5,3))\n",
    "sp.stats.probplot(residuals, plot=ax, fit=True);"
   ]
  },
  {
   "cell_type": "markdown",
   "metadata": {},
   "source": [
    "### 3. No autocorrelation of the error term"
   ]
  },
  {
   "cell_type": "code",
   "execution_count": 63,
   "metadata": {},
   "outputs": [
    {
     "data": {
      "text/plain": [
       "1.9930337662144504"
      ]
     },
     "execution_count": 63,
     "metadata": {},
     "output_type": "execute_result"
    }
   ],
   "source": [
    "from statsmodels.stats.stattools import durbin_watson\n",
    "durbin_watson(residuals)"
   ]
  },
  {
   "cell_type": "markdown",
   "metadata": {},
   "source": [
    "### 4. Homoskedasticity"
   ]
  },
  {
   "cell_type": "code",
   "execution_count": 64,
   "metadata": {},
   "outputs": [
    {
     "data": {
      "image/png": "[encoded data removed]",
      "text/plain": [
       "<Figure size 432x288 with 1 Axes>"
      ]
     },
     "metadata": {
      "needs_background": "light"
     },
     "output_type": "display_data"
    }
   ],
   "source": [
    "plt.scatter(np.arange(0,len(residuals),1), residuals, alpha=0.5)\n",
    "plt.axhline(0);"
   ]
  },
  {
   "cell_type": "markdown",
   "metadata": {},
   "source": [
    "### 5. Exogeneity"
   ]
  },
  {
   "cell_type": "code",
   "execution_count": 65,
   "metadata": {},
   "outputs": [
    {
     "data": {
      "image/png": "[encoded data removed]",
      "text/plain": [
       "<Figure size 432x288 with 1 Axes>"
      ]
     },
     "metadata": {
      "needs_background": "light"
     },
     "output_type": "display_data"
    }
   ],
   "source": [
    "plt.scatter(data.days_to_funding, residuals)\n",
    "plt.axhline(0);"
   ]
  },
  {
   "cell_type": "code",
   "execution_count": 66,
   "metadata": {},
   "outputs": [
    {
     "data": {
      "image/png": "[encoded data removed]",
      "text/plain": [
       "<Figure size 432x288 with 1 Axes>"
      ]
     },
     "metadata": {
      "needs_background": "light"
     },
     "output_type": "display_data"
    }
   ],
   "source": [
    "plt.scatter(data.NUM_LENDERS_TOTAL, residuals)\n",
    "plt.axhline(0);"
   ]
  }
 ],
 "metadata": {
  "kernelspec": {
   "display_name": "Python 3",
   "language": "python",
   "name": "python3"
  },
  "language_info": {
   "codemirror_mode": {
    "name": "ipython",
    "version": 3
   },
   "file_extension": ".py",
   "mimetype": "text/x-python",
   "name": "python",
   "nbconvert_exporter": "python",
   "pygments_lexer": "ipython3",
   "version": "3.7.4"
  }
 },
 "nbformat": 4,
 "nbformat_minor": 2
}
